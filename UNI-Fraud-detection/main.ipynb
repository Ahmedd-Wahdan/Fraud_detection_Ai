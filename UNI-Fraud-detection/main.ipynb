{
 "cells": [
  {
   "cell_type": "code",
   "execution_count": 2,
   "metadata": {},
   "outputs": [],
   "source": [
    "#import all libraries\n",
    "import numpy as np\n",
    "import pandas as pd\n",
    "import matplotlib.pyplot as plt\n",
    "import seaborn as sns\n",
    "%matplotlib inline\n",
    "#ignore warnings\n",
    "\n",
    "import warnings\n",
    "warnings.filterwarnings('ignore')"
   ]
  },
  {
   "cell_type": "code",
   "execution_count": null,
   "metadata": {},
   "outputs": [],
   "source": []
  },
  {
   "cell_type": "code",
   "execution_count": null,
   "metadata": {},
   "outputs": [],
   "source": []
  },
  {
   "cell_type": "markdown",
   "metadata": {},
   "source": [
    "# preprocessing"
   ]
  },
  {
   "cell_type": "code",
   "execution_count": 3,
   "metadata": {},
   "outputs": [],
   "source": [
    "df = pd.read_csv(r\"C:\\Users\\ahmed\\Desktop\\my projects\\UNI-Fraud-detection\\AI-project\\fraudTrain.csv\",parse_dates=['Time'])"
   ]
  },
  {
   "cell_type": "code",
   "execution_count": 4,
   "metadata": {},
   "outputs": [
    {
     "data": {
      "text/html": [
       "<div>\n",
       "<style scoped>\n",
       "    .dataframe tbody tr th:only-of-type {\n",
       "        vertical-align: middle;\n",
       "    }\n",
       "\n",
       "    .dataframe tbody tr th {\n",
       "        vertical-align: top;\n",
       "    }\n",
       "\n",
       "    .dataframe thead th {\n",
       "        text-align: right;\n",
       "    }\n",
       "</style>\n",
       "<table border=\"1\" class=\"dataframe\">\n",
       "  <thead>\n",
       "    <tr style=\"text-align: right;\">\n",
       "      <th></th>\n",
       "      <th>ID</th>\n",
       "      <th>Time</th>\n",
       "      <th>Card Number</th>\n",
       "      <th>merchant</th>\n",
       "      <th>category</th>\n",
       "      <th>Amount</th>\n",
       "      <th>firstName</th>\n",
       "      <th>lastName</th>\n",
       "      <th>trans_num</th>\n",
       "      <th>is_fraud</th>\n",
       "    </tr>\n",
       "  </thead>\n",
       "  <tbody>\n",
       "    <tr>\n",
       "      <th>0</th>\n",
       "      <td>0</td>\n",
       "      <td>2019-01-01 00:00:00</td>\n",
       "      <td>2.700000e+15</td>\n",
       "      <td>fraud_Rippin, Kub and Mann</td>\n",
       "      <td>misc_net</td>\n",
       "      <td>4.97</td>\n",
       "      <td>Jennifer</td>\n",
       "      <td>Banks</td>\n",
       "      <td>0b242abb623afc578575680df30655b9</td>\n",
       "      <td>0.0</td>\n",
       "    </tr>\n",
       "    <tr>\n",
       "      <th>1</th>\n",
       "      <td>1</td>\n",
       "      <td>2019-01-01 00:00:00</td>\n",
       "      <td>6.300000e+11</td>\n",
       "      <td>fraud_Heller, Gutmann and Zieme</td>\n",
       "      <td>grocery_pos</td>\n",
       "      <td>107.23</td>\n",
       "      <td>Stephanie</td>\n",
       "      <td>Gill</td>\n",
       "      <td>1f76529f8574734946361c461b024d99</td>\n",
       "      <td>0.0</td>\n",
       "    </tr>\n",
       "    <tr>\n",
       "      <th>2</th>\n",
       "      <td>2</td>\n",
       "      <td>2019-01-01 00:00:00</td>\n",
       "      <td>3.890000e+13</td>\n",
       "      <td>fraud_Lind-Buckridge</td>\n",
       "      <td>entertainment</td>\n",
       "      <td>220.11</td>\n",
       "      <td>Edward</td>\n",
       "      <td>Sanchez</td>\n",
       "      <td>a1a22d70485983eac12b5b88dad1cf95</td>\n",
       "      <td>0.0</td>\n",
       "    </tr>\n",
       "    <tr>\n",
       "      <th>3</th>\n",
       "      <td>3</td>\n",
       "      <td>2019-01-01 00:01:00</td>\n",
       "      <td>3.530000e+15</td>\n",
       "      <td>fraud_Kutch, Hermiston and Farrell</td>\n",
       "      <td>gas_transport</td>\n",
       "      <td>45.00</td>\n",
       "      <td>Jeremy</td>\n",
       "      <td>White</td>\n",
       "      <td>6b849c168bdad6f867558c3793159a81</td>\n",
       "      <td>0.0</td>\n",
       "    </tr>\n",
       "    <tr>\n",
       "      <th>4</th>\n",
       "      <td>4</td>\n",
       "      <td>2019-01-01 00:03:00</td>\n",
       "      <td>3.760000e+14</td>\n",
       "      <td>fraud_Keeling-Crist</td>\n",
       "      <td>misc_pos</td>\n",
       "      <td>41.96</td>\n",
       "      <td>Tyler</td>\n",
       "      <td>Garcia</td>\n",
       "      <td>a41d7549acf90789359a9aa5346dcb46</td>\n",
       "      <td>0.0</td>\n",
       "    </tr>\n",
       "  </tbody>\n",
       "</table>\n",
       "</div>"
      ],
      "text/plain": [
       "   ID                Time   Card Number                            merchant  \\\n",
       "0   0 2019-01-01 00:00:00  2.700000e+15          fraud_Rippin, Kub and Mann   \n",
       "1   1 2019-01-01 00:00:00  6.300000e+11     fraud_Heller, Gutmann and Zieme   \n",
       "2   2 2019-01-01 00:00:00  3.890000e+13                fraud_Lind-Buckridge   \n",
       "3   3 2019-01-01 00:01:00  3.530000e+15  fraud_Kutch, Hermiston and Farrell   \n",
       "4   4 2019-01-01 00:03:00  3.760000e+14                 fraud_Keeling-Crist   \n",
       "\n",
       "        category  Amount  firstName lastName  \\\n",
       "0       misc_net    4.97   Jennifer    Banks   \n",
       "1    grocery_pos  107.23  Stephanie     Gill   \n",
       "2  entertainment  220.11     Edward  Sanchez   \n",
       "3  gas_transport   45.00     Jeremy    White   \n",
       "4       misc_pos   41.96      Tyler   Garcia   \n",
       "\n",
       "                          trans_num  is_fraud  \n",
       "0  0b242abb623afc578575680df30655b9       0.0  \n",
       "1  1f76529f8574734946361c461b024d99       0.0  \n",
       "2  a1a22d70485983eac12b5b88dad1cf95       0.0  \n",
       "3  6b849c168bdad6f867558c3793159a81       0.0  \n",
       "4  a41d7549acf90789359a9aa5346dcb46       0.0  "
      ]
     },
     "execution_count": 4,
     "metadata": {},
     "output_type": "execute_result"
    }
   ],
   "source": [
    "df.head()"
   ]
  },
  {
   "cell_type": "code",
   "execution_count": 5,
   "metadata": {},
   "outputs": [
    {
     "data": {
      "text/html": [
       "<div>\n",
       "<style scoped>\n",
       "    .dataframe tbody tr th:only-of-type {\n",
       "        vertical-align: middle;\n",
       "    }\n",
       "\n",
       "    .dataframe tbody tr th {\n",
       "        vertical-align: top;\n",
       "    }\n",
       "\n",
       "    .dataframe thead th {\n",
       "        text-align: right;\n",
       "    }\n",
       "</style>\n",
       "<table border=\"1\" class=\"dataframe\">\n",
       "  <thead>\n",
       "    <tr style=\"text-align: right;\">\n",
       "      <th></th>\n",
       "      <th>ID</th>\n",
       "      <th>Time</th>\n",
       "      <th>Card Number</th>\n",
       "      <th>Amount</th>\n",
       "      <th>is_fraud</th>\n",
       "    </tr>\n",
       "  </thead>\n",
       "  <tbody>\n",
       "    <tr>\n",
       "      <th>count</th>\n",
       "      <td>1.002104e+06</td>\n",
       "      <td>1002104</td>\n",
       "      <td>1.002104e+06</td>\n",
       "      <td>1.002103e+06</td>\n",
       "      <td>1.002103e+06</td>\n",
       "    </tr>\n",
       "    <tr>\n",
       "      <th>mean</th>\n",
       "      <td>5.010515e+05</td>\n",
       "      <td>2019-08-04 22:56:49.627184128</td>\n",
       "      <td>4.171374e+17</td>\n",
       "      <td>7.025616e+01</td>\n",
       "      <td>5.701011e-03</td>\n",
       "    </tr>\n",
       "    <tr>\n",
       "      <th>min</th>\n",
       "      <td>0.000000e+00</td>\n",
       "      <td>2019-01-01 00:00:00</td>\n",
       "      <td>6.041621e+10</td>\n",
       "      <td>1.000000e+00</td>\n",
       "      <td>0.000000e+00</td>\n",
       "    </tr>\n",
       "    <tr>\n",
       "      <th>25%</th>\n",
       "      <td>2.505258e+05</td>\n",
       "      <td>2019-05-05 11:43:00</td>\n",
       "      <td>1.800000e+14</td>\n",
       "      <td>9.640000e+00</td>\n",
       "      <td>0.000000e+00</td>\n",
       "    </tr>\n",
       "    <tr>\n",
       "      <th>50%</th>\n",
       "      <td>5.010515e+05</td>\n",
       "      <td>2019-08-05 16:02:30</td>\n",
       "      <td>3.520000e+15</td>\n",
       "      <td>4.742000e+01</td>\n",
       "      <td>0.000000e+00</td>\n",
       "    </tr>\n",
       "    <tr>\n",
       "      <th>75%</th>\n",
       "      <td>7.515772e+05</td>\n",
       "      <td>2019-11-17 17:16:00</td>\n",
       "      <td>4.640000e+15</td>\n",
       "      <td>8.304000e+01</td>\n",
       "      <td>0.000000e+00</td>\n",
       "    </tr>\n",
       "    <tr>\n",
       "      <th>max</th>\n",
       "      <td>1.002103e+06</td>\n",
       "      <td>2020-02-15 16:43:00</td>\n",
       "      <td>4.990000e+18</td>\n",
       "      <td>2.894890e+04</td>\n",
       "      <td>1.000000e+00</td>\n",
       "    </tr>\n",
       "    <tr>\n",
       "      <th>std</th>\n",
       "      <td>2.892827e+05</td>\n",
       "      <td>NaN</td>\n",
       "      <td>1.308840e+18</td>\n",
       "      <td>1.602039e+02</td>\n",
       "      <td>7.528954e-02</td>\n",
       "    </tr>\n",
       "  </tbody>\n",
       "</table>\n",
       "</div>"
      ],
      "text/plain": [
       "                 ID                           Time   Card Number  \\\n",
       "count  1.002104e+06                        1002104  1.002104e+06   \n",
       "mean   5.010515e+05  2019-08-04 22:56:49.627184128  4.171374e+17   \n",
       "min    0.000000e+00            2019-01-01 00:00:00  6.041621e+10   \n",
       "25%    2.505258e+05            2019-05-05 11:43:00  1.800000e+14   \n",
       "50%    5.010515e+05            2019-08-05 16:02:30  3.520000e+15   \n",
       "75%    7.515772e+05            2019-11-17 17:16:00  4.640000e+15   \n",
       "max    1.002103e+06            2020-02-15 16:43:00  4.990000e+18   \n",
       "std    2.892827e+05                            NaN  1.308840e+18   \n",
       "\n",
       "             Amount      is_fraud  \n",
       "count  1.002103e+06  1.002103e+06  \n",
       "mean   7.025616e+01  5.701011e-03  \n",
       "min    1.000000e+00  0.000000e+00  \n",
       "25%    9.640000e+00  0.000000e+00  \n",
       "50%    4.742000e+01  0.000000e+00  \n",
       "75%    8.304000e+01  0.000000e+00  \n",
       "max    2.894890e+04  1.000000e+00  \n",
       "std    1.602039e+02  7.528954e-02  "
      ]
     },
     "execution_count": 5,
     "metadata": {},
     "output_type": "execute_result"
    }
   ],
   "source": [
    "df.describe()"
   ]
  },
  {
   "cell_type": "code",
   "execution_count": 6,
   "metadata": {},
   "outputs": [
    {
     "name": "stdout",
     "output_type": "stream",
     "text": [
      "<class 'pandas.core.frame.DataFrame'>\n",
      "RangeIndex: 1002104 entries, 0 to 1002103\n",
      "Data columns (total 10 columns):\n",
      " #   Column       Non-Null Count    Dtype         \n",
      "---  ------       --------------    -----         \n",
      " 0   ID           1002104 non-null  int64         \n",
      " 1   Time         1002104 non-null  datetime64[ns]\n",
      " 2   Card Number  1002104 non-null  float64       \n",
      " 3   merchant     1002104 non-null  object        \n",
      " 4   category     1002104 non-null  object        \n",
      " 5   Amount       1002103 non-null  float64       \n",
      " 6   firstName    1002103 non-null  object        \n",
      " 7   lastName     1002103 non-null  object        \n",
      " 8   trans_num    1002103 non-null  object        \n",
      " 9   is_fraud     1002103 non-null  float64       \n",
      "dtypes: datetime64[ns](1), float64(3), int64(1), object(5)\n",
      "memory usage: 76.5+ MB\n"
     ]
    }
   ],
   "source": [
    "df.info()"
   ]
  },
  {
   "cell_type": "code",
   "execution_count": 7,
   "metadata": {},
   "outputs": [
    {
     "name": "stdout",
     "output_type": "stream",
     "text": [
      "             Column Name  Null Values  Percentage of Null Values\n",
      "ID                    ID            0                     0.0000\n",
      "Time                Time            0                     0.0000\n",
      "Card Number  Card Number            0                     0.0000\n",
      "merchant        merchant            0                     0.0000\n",
      "category        category            0                     0.0000\n",
      "Amount            Amount            1                     0.0001\n",
      "firstName      firstName            1                     0.0001\n",
      "lastName        lastName            1                     0.0001\n",
      "trans_num      trans_num            1                     0.0001\n",
      "is_fraud        is_fraud            1                     0.0001\n"
     ]
    }
   ],
   "source": [
    "# get the nulls of the df with the percentage of nulls in each column\n",
    "\n",
    "null_values = df.isnull().sum()\n",
    "percent_null_values = (null_values / len(df)) * 100\n",
    "\n",
    "null_df = pd.DataFrame({\n",
    "    \"Column Name\": df.columns,\n",
    "    \"Null Values\": null_values,\n",
    "    \"Percentage of Null Values\": percent_null_values,\n",
    "})\n",
    "\n",
    "print(null_df)"
   ]
  },
  {
   "cell_type": "code",
   "execution_count": 8,
   "metadata": {},
   "outputs": [
    {
     "data": {
      "text/plain": [
       "(1002104, 10)"
      ]
     },
     "execution_count": 8,
     "metadata": {},
     "output_type": "execute_result"
    }
   ],
   "source": [
    "df.shape"
   ]
  },
  {
   "cell_type": "markdown",
   "metadata": {},
   "source": [
    "All the nulls in the df are from one row so we dont need to deal with it we will just delete it"
   ]
  },
  {
   "cell_type": "code",
   "execution_count": 9,
   "metadata": {},
   "outputs": [
    {
     "name": "stdout",
     "output_type": "stream",
     "text": [
      "              ID                Time   Card Number         merchant category  \\\n",
      "1002103  1002103 2020-02-15 16:43:00  2.270000e+15  fraud_Brown Inc    kids_   \n",
      "\n",
      "         Amount firstName lastName trans_num  is_fraud  \n",
      "1002103     NaN       NaN      NaN       NaN       NaN  \n"
     ]
    }
   ],
   "source": [
    "# value of the null row of the trans_number\n",
    "print(df.loc[df['is_fraud'].isnull()])\n",
    "df = df.dropna(subset=['is_fraud'])"
   ]
  },
  {
   "cell_type": "code",
   "execution_count": 10,
   "metadata": {},
   "outputs": [
    {
     "data": {
      "text/plain": [
       "<Axes: xlabel='Amount'>"
      ]
     },
     "execution_count": 10,
     "metadata": {},
     "output_type": "execute_result"
    },
    {
     "data": {
      "image/png": "[encoded data removed]",
      "text/plain": [
       "<Figure size 640x480 with 1 Axes>"
      ]
     },
     "metadata": {},
     "output_type": "display_data"
    }
   ],
   "source": [
    "#box plot of the amount column\n",
    "sns.boxplot(x=\"Amount\", data=df,log_scale=True)"
   ]
  },
  {
   "cell_type": "markdown",
   "metadata": {},
   "source": [
    "The amount is the only numerical column we can get insights from.\n",
    "the outlires here are not noise and they are not fraud transactions "
   ]
  },
  {
   "cell_type": "code",
   "execution_count": 11,
   "metadata": {},
   "outputs": [
    {
     "name": "stdout",
     "output_type": "stream",
     "text": [
      "Card Number\n",
      "6.010000e+15    48915\n",
      "2.130000e+14    40189\n",
      "1.800000e+14    30881\n",
      "3.560000e+15    21450\n",
      "3.530000e+15    21329\n",
      "                ...  \n",
      "5.300000e+15       11\n",
      "5.140000e+15       10\n",
      "4.840000e+12       10\n",
      "4.160000e+18       10\n",
      "6.580000e+15        7\n",
      "Name: count, Length: 320, dtype: int64\n"
     ]
    }
   ],
   "source": [
    "print(df['Card Number'].value_counts())"
   ]
  },
  {
   "cell_type": "code",
   "execution_count": 12,
   "metadata": {},
   "outputs": [
    {
     "name": "stdout",
     "output_type": "stream",
     "text": [
      "Card Number\n",
      "6.010000e+15    300\n",
      "1.800000e+14    234\n",
      "2.130000e+14    177\n",
      "3.540000e+15    167\n",
      "6.760000e+11    161\n",
      "               ... \n",
      "4.020000e+18      5\n",
      "4.590000e+18      5\n",
      "4.860000e+12      4\n",
      "4.910000e+15      3\n",
      "4.230000e+18      3\n",
      "Name: count, Length: 248, dtype: int64\n"
     ]
    }
   ],
   "source": [
    "#print the card numbers with the label = 1\n",
    "print(df[df['is_fraud']==1]['Card Number'].value_counts())"
   ]
  },
  {
   "cell_type": "code",
   "execution_count": 13,
   "metadata": {},
   "outputs": [
    {
     "data": {
      "text/plain": [
       "merchant\n",
       "fraud_Kilback LLC                       3361\n",
       "fraud_Cormier LLC                       2854\n",
       "fraud_Schumm PLC                        2792\n",
       "fraud_Boyer PLC                         2705\n",
       "fraud_Kuhn LLC                          2676\n",
       "                                        ... \n",
       "fraud_Kilback, Nitzsche and Leffler      602\n",
       "fraud_Satterfield-Lowe                   591\n",
       "fraud_Medhurst, Labadie and Gottlieb     580\n",
       "fraud_Hahn, Douglas and Schowalter       577\n",
       "fraud_Reichert-Weissnat                  575\n",
       "Name: count, Length: 693, dtype: int64"
      ]
     },
     "execution_count": 13,
     "metadata": {},
     "output_type": "execute_result"
    }
   ],
   "source": [
    "df['merchant'].value_counts()"
   ]
  },
  {
   "cell_type": "code",
   "execution_count": 108,
   "metadata": {},
   "outputs": [
    {
     "data": {
      "text/plain": [
       "<Axes: xlabel='Amount'>"
      ]
     },
     "execution_count": 108,
     "metadata": {},
     "output_type": "execute_result"
    },
    {
     "data": {
      "image/png": "[encoded data removed]",
      "text/plain": [
       "<Figure size 640x480 with 1 Axes>"
      ]
     },
     "metadata": {},
     "output_type": "display_data"
    }
   ],
   "source": [
    "#violin plt of the amount column with hue is_fraud\n",
    "sns.violinplot(x=\"Amount\", data=df, hue=\"is_fraud\", log_scale=True)"
   ]
  },
  {
   "cell_type": "code",
   "execution_count": 13,
   "metadata": {},
   "outputs": [
    {
     "name": "stdout",
     "output_type": "stream",
     "text": [
      "Number of fraud transactions:  5713\n",
      "Number of non-fraud transactions:  996390\n"
     ]
    }
   ],
   "source": [
    "# number of fraud transactions and non-fraud transactions\n",
    "print(\"Number of fraud transactions: \", df[df['is_fraud']==1].shape[0])\n",
    "print(\"Number of non-fraud transactions: \", df[df['is_fraud']==0].shape[0])\n"
   ]
  },
  {
   "cell_type": "markdown",
   "metadata": {},
   "source": [
    "clearly there is imbalance in the data we wont do anything now but we will come back to it to see how we can deal with it"
   ]
  },
  {
   "cell_type": "code",
   "execution_count": 14,
   "metadata": {},
   "outputs": [
    {
     "data": {
      "text/html": [
       "<div>\n",
       "<style scoped>\n",
       "    .dataframe tbody tr th:only-of-type {\n",
       "        vertical-align: middle;\n",
       "    }\n",
       "\n",
       "    .dataframe tbody tr th {\n",
       "        vertical-align: top;\n",
       "    }\n",
       "\n",
       "    .dataframe thead th {\n",
       "        text-align: right;\n",
       "    }\n",
       "</style>\n",
       "<table border=\"1\" class=\"dataframe\">\n",
       "  <thead>\n",
       "    <tr style=\"text-align: right;\">\n",
       "      <th></th>\n",
       "      <th>ID</th>\n",
       "      <th>Time</th>\n",
       "      <th>Card Number</th>\n",
       "      <th>Amount</th>\n",
       "      <th>is_fraud</th>\n",
       "    </tr>\n",
       "  </thead>\n",
       "  <tbody>\n",
       "    <tr>\n",
       "      <th>count</th>\n",
       "      <td>1.002103e+06</td>\n",
       "      <td>1002103</td>\n",
       "      <td>1.002103e+06</td>\n",
       "      <td>1.002103e+06</td>\n",
       "      <td>1.002103e+06</td>\n",
       "    </tr>\n",
       "    <tr>\n",
       "      <th>mean</th>\n",
       "      <td>5.010510e+05</td>\n",
       "      <td>2019-08-04 22:56:32.836923392</td>\n",
       "      <td>4.171379e+17</td>\n",
       "      <td>7.025616e+01</td>\n",
       "      <td>5.701011e-03</td>\n",
       "    </tr>\n",
       "    <tr>\n",
       "      <th>min</th>\n",
       "      <td>0.000000e+00</td>\n",
       "      <td>2019-01-01 00:00:00</td>\n",
       "      <td>6.041621e+10</td>\n",
       "      <td>1.000000e+00</td>\n",
       "      <td>0.000000e+00</td>\n",
       "    </tr>\n",
       "    <tr>\n",
       "      <th>25%</th>\n",
       "      <td>2.505255e+05</td>\n",
       "      <td>2019-05-05 11:43:00</td>\n",
       "      <td>1.800000e+14</td>\n",
       "      <td>9.640000e+00</td>\n",
       "      <td>0.000000e+00</td>\n",
       "    </tr>\n",
       "    <tr>\n",
       "      <th>50%</th>\n",
       "      <td>5.010510e+05</td>\n",
       "      <td>2019-08-05 16:02:00</td>\n",
       "      <td>3.520000e+15</td>\n",
       "      <td>4.742000e+01</td>\n",
       "      <td>0.000000e+00</td>\n",
       "    </tr>\n",
       "    <tr>\n",
       "      <th>75%</th>\n",
       "      <td>7.515765e+05</td>\n",
       "      <td>2019-11-17 17:16:00</td>\n",
       "      <td>4.640000e+15</td>\n",
       "      <td>8.304000e+01</td>\n",
       "      <td>0.000000e+00</td>\n",
       "    </tr>\n",
       "    <tr>\n",
       "      <th>max</th>\n",
       "      <td>1.002102e+06</td>\n",
       "      <td>2020-02-15 16:42:00</td>\n",
       "      <td>4.990000e+18</td>\n",
       "      <td>2.894890e+04</td>\n",
       "      <td>1.000000e+00</td>\n",
       "    </tr>\n",
       "    <tr>\n",
       "      <th>std</th>\n",
       "      <td>2.892824e+05</td>\n",
       "      <td>NaN</td>\n",
       "      <td>1.308841e+18</td>\n",
       "      <td>1.602039e+02</td>\n",
       "      <td>7.528954e-02</td>\n",
       "    </tr>\n",
       "  </tbody>\n",
       "</table>\n",
       "</div>"
      ],
      "text/plain": [
       "                 ID                           Time   Card Number  \\\n",
       "count  1.002103e+06                        1002103  1.002103e+06   \n",
       "mean   5.010510e+05  2019-08-04 22:56:32.836923392  4.171379e+17   \n",
       "min    0.000000e+00            2019-01-01 00:00:00  6.041621e+10   \n",
       "25%    2.505255e+05            2019-05-05 11:43:00  1.800000e+14   \n",
       "50%    5.010510e+05            2019-08-05 16:02:00  3.520000e+15   \n",
       "75%    7.515765e+05            2019-11-17 17:16:00  4.640000e+15   \n",
       "max    1.002102e+06            2020-02-15 16:42:00  4.990000e+18   \n",
       "std    2.892824e+05                            NaN  1.308841e+18   \n",
       "\n",
       "             Amount      is_fraud  \n",
       "count  1.002103e+06  1.002103e+06  \n",
       "mean   7.025616e+01  5.701011e-03  \n",
       "min    1.000000e+00  0.000000e+00  \n",
       "25%    9.640000e+00  0.000000e+00  \n",
       "50%    4.742000e+01  0.000000e+00  \n",
       "75%    8.304000e+01  0.000000e+00  \n",
       "max    2.894890e+04  1.000000e+00  \n",
       "std    1.602039e+02  7.528954e-02  "
      ]
     },
     "execution_count": 14,
     "metadata": {},
     "output_type": "execute_result"
    }
   ],
   "source": [
    "df.describe()"
   ]
  },
  {
   "cell_type": "code",
   "execution_count": 18,
   "metadata": {},
   "outputs": [
    {
     "data": {
      "text/plain": [
       "<Axes: xlabel='diff(mean-amount)', ylabel='Count'>"
      ]
     },
     "execution_count": 18,
     "metadata": {},
     "output_type": "execute_result"
    },
    {
     "data": {
      "image/png": "[encoded data removed]",
      "text/plain": [
       "<Figure size 640x480 with 1 Axes>"
      ]
     },
     "metadata": {},
     "output_type": "display_data"
    }
   ],
   "source": [
    "# i want to bar plot the amount column with hue is_fraud with log scale and rotate the x-axis labels\n",
    "sns.histplot(x=\"diff(mean-amount)\", data=df, hue=\"is_fraud\",binwidth=1000)\n",
    "# sns.barplot(x=\"Amount\", data=df, hue=\"is_fraud\")"
   ]
  },
  {
   "cell_type": "code",
   "execution_count": 15,
   "metadata": {},
   "outputs": [
    {
     "name": "stdout",
     "output_type": "stream",
     "text": [
      "<class 'pandas.core.frame.DataFrame'>\n",
      "Index: 1002103 entries, 0 to 1002102\n",
      "Data columns (total 10 columns):\n",
      " #   Column       Non-Null Count    Dtype         \n",
      "---  ------       --------------    -----         \n",
      " 0   ID           1002103 non-null  int64         \n",
      " 1   Time         1002103 non-null  datetime64[ns]\n",
      " 2   Card Number  1002103 non-null  float64       \n",
      " 3   merchant     1002103 non-null  object        \n",
      " 4   category     1002103 non-null  object        \n",
      " 5   Amount       1002103 non-null  float64       \n",
      " 6   firstName    1002103 non-null  object        \n",
      " 7   lastName     1002103 non-null  object        \n",
      " 8   trans_num    1002103 non-null  object        \n",
      " 9   is_fraud     1002103 non-null  float64       \n",
      "dtypes: datetime64[ns](1), float64(3), int64(1), object(5)\n",
      "memory usage: 84.1+ MB\n"
     ]
    }
   ],
   "source": [
    "df.info()"
   ]
  },
  {
   "cell_type": "code",
   "execution_count": 16,
   "metadata": {},
   "outputs": [],
   "source": [
    "#drop ID firstName lastName trans_num merchant from the dataframe\n",
    "df.drop(columns=['ID', 'firstName', 'lastName', 'trans_num', 'merchant','Card Number'],inplace=True)\n"
   ]
  },
  {
   "cell_type": "markdown",
   "metadata": {},
   "source": [
    "# feature engineering"
   ]
  },
  {
   "cell_type": "code",
   "execution_count": 20,
   "metadata": {},
   "outputs": [
    {
     "data": {
      "text/html": [
       "<div>\n",
       "<style scoped>\n",
       "    .dataframe tbody tr th:only-of-type {\n",
       "        vertical-align: middle;\n",
       "    }\n",
       "\n",
       "    .dataframe tbody tr th {\n",
       "        vertical-align: top;\n",
       "    }\n",
       "\n",
       "    .dataframe thead th {\n",
       "        text-align: right;\n",
       "    }\n",
       "</style>\n",
       "<table border=\"1\" class=\"dataframe\">\n",
       "  <thead>\n",
       "    <tr style=\"text-align: right;\">\n",
       "      <th></th>\n",
       "      <th>Time</th>\n",
       "      <th>category</th>\n",
       "      <th>Amount</th>\n",
       "      <th>is_fraud</th>\n",
       "    </tr>\n",
       "  </thead>\n",
       "  <tbody>\n",
       "    <tr>\n",
       "      <th>0</th>\n",
       "      <td>2019-01-01 00:00:00</td>\n",
       "      <td>misc_net</td>\n",
       "      <td>4.97</td>\n",
       "      <td>0.0</td>\n",
       "    </tr>\n",
       "    <tr>\n",
       "      <th>1</th>\n",
       "      <td>2019-01-01 00:00:00</td>\n",
       "      <td>grocery_pos</td>\n",
       "      <td>107.23</td>\n",
       "      <td>0.0</td>\n",
       "    </tr>\n",
       "    <tr>\n",
       "      <th>2</th>\n",
       "      <td>2019-01-01 00:00:00</td>\n",
       "      <td>entertainment</td>\n",
       "      <td>220.11</td>\n",
       "      <td>0.0</td>\n",
       "    </tr>\n",
       "    <tr>\n",
       "      <th>3</th>\n",
       "      <td>2019-01-01 00:01:00</td>\n",
       "      <td>gas_transport</td>\n",
       "      <td>45.00</td>\n",
       "      <td>0.0</td>\n",
       "    </tr>\n",
       "    <tr>\n",
       "      <th>4</th>\n",
       "      <td>2019-01-01 00:03:00</td>\n",
       "      <td>misc_pos</td>\n",
       "      <td>41.96</td>\n",
       "      <td>0.0</td>\n",
       "    </tr>\n",
       "  </tbody>\n",
       "</table>\n",
       "</div>"
      ],
      "text/plain": [
       "                 Time       category  Amount  is_fraud\n",
       "0 2019-01-01 00:00:00       misc_net    4.97       0.0\n",
       "1 2019-01-01 00:00:00    grocery_pos  107.23       0.0\n",
       "2 2019-01-01 00:00:00  entertainment  220.11       0.0\n",
       "3 2019-01-01 00:01:00  gas_transport   45.00       0.0\n",
       "4 2019-01-01 00:03:00       misc_pos   41.96       0.0"
      ]
     },
     "execution_count": 20,
     "metadata": {},
     "output_type": "execute_result"
    }
   ],
   "source": [
    "df.head()"
   ]
  },
  {
   "cell_type": "code",
   "execution_count": 17,
   "metadata": {},
   "outputs": [],
   "source": [
    "\n",
    "df.sort_values(by='Time', inplace=True)\n",
    "df['seconds'] = (df['Time'] - df['Time'].min()).dt.total_seconds()\n",
    "df['diff(mean-seconds)'] = abs(df['seconds'] - df['seconds'].mean())\n",
    "df['diff(mean-amount)'] = abs(df['Amount'] - df['Amount'].mean())\n",
    "df['ratio_currentTime_to_averageTime'] = df['seconds'] / df['seconds'].mean()\n",
    "df['hour'] = df['Time'].dt.hour\n",
    "df['minute'] = df['Time'].dt.minute\n",
    "df['second'] = df['Time'].dt.second"
   ]
  },
  {
   "cell_type": "code",
   "execution_count": 26,
   "metadata": {},
   "outputs": [],
   "source": [
    "df.drop(columns=['Time','seconds'],inplace=True)"
   ]
  },
  {
   "cell_type": "code",
   "execution_count": 27,
   "metadata": {},
   "outputs": [
    {
     "name": "stdout",
     "output_type": "stream",
     "text": [
      "<class 'pandas.core.frame.DataFrame'>\n",
      "Index: 1002103 entries, 0 to 1002102\n",
      "Data columns (total 9 columns):\n",
      " #   Column                            Non-Null Count    Dtype  \n",
      "---  ------                            --------------    -----  \n",
      " 0   category                          1002103 non-null  object \n",
      " 1   Amount                            1002103 non-null  float64\n",
      " 2   is_fraud                          1002103 non-null  float64\n",
      " 3   diff(mean-seconds)                1002103 non-null  float64\n",
      " 4   diff(mean-amount)                 1002103 non-null  float64\n",
      " 5   ratio_currentTime_to_averageTime  1002103 non-null  float64\n",
      " 6   hour                              1002103 non-null  int32  \n",
      " 7   minute                            1002103 non-null  int32  \n",
      " 8   second                            1002103 non-null  int32  \n",
      "dtypes: float64(5), int32(3), object(1)\n",
      "memory usage: 65.0+ MB\n"
     ]
    }
   ],
   "source": [
    "df.info()"
   ]
  },
  {
   "cell_type": "code",
   "execution_count": 19,
   "metadata": {},
   "outputs": [
    {
     "data": {
      "text/html": [
       "<div>\n",
       "<style scoped>\n",
       "    .dataframe tbody tr th:only-of-type {\n",
       "        vertical-align: middle;\n",
       "    }\n",
       "\n",
       "    .dataframe tbody tr th {\n",
       "        vertical-align: top;\n",
       "    }\n",
       "\n",
       "    .dataframe thead th {\n",
       "        text-align: right;\n",
       "    }\n",
       "</style>\n",
       "<table border=\"1\" class=\"dataframe\">\n",
       "  <thead>\n",
       "    <tr style=\"text-align: right;\">\n",
       "      <th></th>\n",
       "      <th>Time</th>\n",
       "      <th>Amount</th>\n",
       "      <th>is_fraud</th>\n",
       "      <th>seconds</th>\n",
       "      <th>diff(mean-seconds)</th>\n",
       "      <th>diff(mean-amount)</th>\n",
       "      <th>ratio_currentTime_to_averageTime</th>\n",
       "      <th>hour</th>\n",
       "      <th>minute</th>\n",
       "      <th>second</th>\n",
       "    </tr>\n",
       "  </thead>\n",
       "  <tbody>\n",
       "    <tr>\n",
       "      <th>count</th>\n",
       "      <td>1002103</td>\n",
       "      <td>1.002103e+06</td>\n",
       "      <td>1.002103e+06</td>\n",
       "      <td>1.002103e+06</td>\n",
       "      <td>1.002103e+06</td>\n",
       "      <td>1.002103e+06</td>\n",
       "      <td>1.002103e+06</td>\n",
       "      <td>1.002103e+06</td>\n",
       "      <td>1.002103e+06</td>\n",
       "      <td>1002103.0</td>\n",
       "    </tr>\n",
       "    <tr>\n",
       "      <th>mean</th>\n",
       "      <td>2019-08-04 22:56:32.836923392</td>\n",
       "      <td>7.025616e+01</td>\n",
       "      <td>5.701011e-03</td>\n",
       "      <td>1.865859e+07</td>\n",
       "      <td>8.344084e+06</td>\n",
       "      <td>5.759861e+01</td>\n",
       "      <td>1.000000e+00</td>\n",
       "      <td>1.280453e+01</td>\n",
       "      <td>2.948970e+01</td>\n",
       "      <td>0.0</td>\n",
       "    </tr>\n",
       "    <tr>\n",
       "      <th>min</th>\n",
       "      <td>2019-01-01 00:00:00</td>\n",
       "      <td>1.000000e+00</td>\n",
       "      <td>0.000000e+00</td>\n",
       "      <td>0.000000e+00</td>\n",
       "      <td>2.716308e+01</td>\n",
       "      <td>3.842958e-03</td>\n",
       "      <td>0.000000e+00</td>\n",
       "      <td>0.000000e+00</td>\n",
       "      <td>0.000000e+00</td>\n",
       "      <td>0.0</td>\n",
       "    </tr>\n",
       "    <tr>\n",
       "      <th>25%</th>\n",
       "      <td>2019-05-05 11:43:00</td>\n",
       "      <td>9.640000e+00</td>\n",
       "      <td>0.000000e+00</td>\n",
       "      <td>1.075578e+07</td>\n",
       "      <td>3.999723e+06</td>\n",
       "      <td>1.898616e+01</td>\n",
       "      <td>5.764518e-01</td>\n",
       "      <td>7.000000e+00</td>\n",
       "      <td>1.400000e+01</td>\n",
       "      <td>0.0</td>\n",
       "    </tr>\n",
       "    <tr>\n",
       "      <th>50%</th>\n",
       "      <td>2019-08-05 16:02:00</td>\n",
       "      <td>4.742000e+01</td>\n",
       "      <td>0.000000e+00</td>\n",
       "      <td>1.872012e+07</td>\n",
       "      <td>8.476113e+06</td>\n",
       "      <td>4.486384e+01</td>\n",
       "      <td>1.003298e+00</td>\n",
       "      <td>1.400000e+01</td>\n",
       "      <td>3.000000e+01</td>\n",
       "      <td>0.0</td>\n",
       "    </tr>\n",
       "    <tr>\n",
       "      <th>75%</th>\n",
       "      <td>2019-11-17 17:16:00</td>\n",
       "      <td>8.304000e+01</td>\n",
       "      <td>0.000000e+00</td>\n",
       "      <td>2.771016e+07</td>\n",
       "      <td>1.218039e+07</td>\n",
       "      <td>6.446616e+01</td>\n",
       "      <td>1.485115e+00</td>\n",
       "      <td>1.900000e+01</td>\n",
       "      <td>4.400000e+01</td>\n",
       "      <td>0.0</td>\n",
       "    </tr>\n",
       "    <tr>\n",
       "      <th>max</th>\n",
       "      <td>2020-02-15 16:42:00</td>\n",
       "      <td>2.894890e+04</td>\n",
       "      <td>1.000000e+00</td>\n",
       "      <td>3.548412e+07</td>\n",
       "      <td>1.865859e+07</td>\n",
       "      <td>2.887864e+04</td>\n",
       "      <td>1.901758e+00</td>\n",
       "      <td>2.300000e+01</td>\n",
       "      <td>5.900000e+01</td>\n",
       "      <td>0.0</td>\n",
       "    </tr>\n",
       "    <tr>\n",
       "      <th>std</th>\n",
       "      <td>NaN</td>\n",
       "      <td>1.602039e+02</td>\n",
       "      <td>7.528954e-02</td>\n",
       "      <td>9.710730e+06</td>\n",
       "      <td>4.967340e+06</td>\n",
       "      <td>1.494914e+02</td>\n",
       "      <td>5.204428e-01</td>\n",
       "      <td>6.816683e+00</td>\n",
       "      <td>1.732029e+01</td>\n",
       "      <td>0.0</td>\n",
       "    </tr>\n",
       "  </tbody>\n",
       "</table>\n",
       "</div>"
      ],
      "text/plain": [
       "                                Time        Amount      is_fraud  \\\n",
       "count                        1002103  1.002103e+06  1.002103e+06   \n",
       "mean   2019-08-04 22:56:32.836923392  7.025616e+01  5.701011e-03   \n",
       "min              2019-01-01 00:00:00  1.000000e+00  0.000000e+00   \n",
       "25%              2019-05-05 11:43:00  9.640000e+00  0.000000e+00   \n",
       "50%              2019-08-05 16:02:00  4.742000e+01  0.000000e+00   \n",
       "75%              2019-11-17 17:16:00  8.304000e+01  0.000000e+00   \n",
       "max              2020-02-15 16:42:00  2.894890e+04  1.000000e+00   \n",
       "std                              NaN  1.602039e+02  7.528954e-02   \n",
       "\n",
       "            seconds  diff(mean-seconds)  diff(mean-amount)  \\\n",
       "count  1.002103e+06        1.002103e+06       1.002103e+06   \n",
       "mean   1.865859e+07        8.344084e+06       5.759861e+01   \n",
       "min    0.000000e+00        2.716308e+01       3.842958e-03   \n",
       "25%    1.075578e+07        3.999723e+06       1.898616e+01   \n",
       "50%    1.872012e+07        8.476113e+06       4.486384e+01   \n",
       "75%    2.771016e+07        1.218039e+07       6.446616e+01   \n",
       "max    3.548412e+07        1.865859e+07       2.887864e+04   \n",
       "std    9.710730e+06        4.967340e+06       1.494914e+02   \n",
       "\n",
       "       ratio_currentTime_to_averageTime          hour        minute     second  \n",
       "count                      1.002103e+06  1.002103e+06  1.002103e+06  1002103.0  \n",
       "mean                       1.000000e+00  1.280453e+01  2.948970e+01        0.0  \n",
       "min                        0.000000e+00  0.000000e+00  0.000000e+00        0.0  \n",
       "25%                        5.764518e-01  7.000000e+00  1.400000e+01        0.0  \n",
       "50%                        1.003298e+00  1.400000e+01  3.000000e+01        0.0  \n",
       "75%                        1.485115e+00  1.900000e+01  4.400000e+01        0.0  \n",
       "max                        1.901758e+00  2.300000e+01  5.900000e+01        0.0  \n",
       "std                        5.204428e-01  6.816683e+00  1.732029e+01        0.0  "
      ]
     },
     "execution_count": 19,
     "metadata": {},
     "output_type": "execute_result"
    }
   ],
   "source": [
    "df.describe()"
   ]
  },
  {
   "cell_type": "code",
   "execution_count": 20,
   "metadata": {},
   "outputs": [
    {
     "data": {
      "text/plain": [
       "array(['misc_net', 'grocery_pos', 'entertainment', 'gas_transport',\n",
       "       'misc_pos', 'grocery_net', 'shopping_net', 'shopping_pos',\n",
       "       'food_dining', 'health_fitness', 'personal_care', 'travel',\n",
       "       'kids_pets', 'home'], dtype=object)"
      ]
     },
     "execution_count": 20,
     "metadata": {},
     "output_type": "execute_result"
    }
   ],
   "source": [
    "df['category'].unique()"
   ]
  },
  {
   "cell_type": "code",
   "execution_count": null,
   "metadata": {},
   "outputs": [],
   "source": []
  },
  {
   "cell_type": "code",
   "execution_count": 25,
   "metadata": {},
   "outputs": [
    {
     "name": "stdout",
     "output_type": "stream",
     "text": [
      "8344083.826574826\n",
      "4967339.739036268\n"
     ]
    }
   ],
   "source": [
    "print(df['diff(mean-seconds)'].mean())\n",
    "print(df['diff(mean-seconds)'].std())"
   ]
  },
  {
   "cell_type": "code",
   "execution_count": 23,
   "metadata": {},
   "outputs": [
    {
     "name": "stdout",
     "output_type": "stream",
     "text": [
      "70.25615704174125\n",
      "160.20387321710024\n"
     ]
    }
   ],
   "source": [
    "print(df['Amount'].mean())\n",
    "print(df['Amount'].std())"
   ]
  },
  {
   "cell_type": "code",
   "execution_count": 24,
   "metadata": {},
   "outputs": [
    {
     "name": "stdout",
     "output_type": "stream",
     "text": [
      "12.80452608165029\n",
      "6.81668252303722\n"
     ]
    }
   ],
   "source": [
    "print(df['hour'].mean())\n",
    "print(df['hour'].std())"
   ]
  },
  {
   "cell_type": "code",
   "execution_count": null,
   "metadata": {},
   "outputs": [],
   "source": []
  },
  {
   "cell_type": "code",
   "execution_count": 28,
   "metadata": {},
   "outputs": [],
   "source": [
    "#encode the category column using label encoder\n",
    "from sklearn.preprocessing import LabelEncoder\n",
    "\n",
    "# Assuming 'column_to_encode' is the column you want to encode\n",
    "encoder = LabelEncoder()\n",
    "df['category'] = encoder.fit_transform(df['category'])\n"
   ]
  },
  {
   "cell_type": "code",
   "execution_count": 29,
   "metadata": {},
   "outputs": [
    {
     "name": "stdout",
     "output_type": "stream",
     "text": [
      "Skewness of each column:\n",
      "category                             0.048450\n",
      "Amount                              42.470109\n",
      "is_fraud                            13.130641\n",
      "diff(mean-seconds)                   0.069071\n",
      "diff(mean-amount)                   51.112831\n",
      "ratio_currentTime_to_averageTime    -0.119493\n",
      "hour                                -0.283361\n",
      "minute                              -0.000404\n",
      "second                               0.000000\n",
      "dtype: float64\n"
     ]
    }
   ],
   "source": [
    "print(\"Skewness of each column:\")\n",
    "print(df.skew())"
   ]
  },
  {
   "cell_type": "code",
   "execution_count": 137,
   "metadata": {},
   "outputs": [],
   "source": [
    "# remove outlires from columns using iqr\n",
    "q1 = df['Amount'].quantile(0.25)\n",
    "q3 = df['Amount'].quantile(0.75)\n",
    "iqr = q3 - q1\n",
    "# Remove outliers\n",
    "df = df[~((df['Amount'] < (q1 - 1.5 * iqr)) | (df['Amount'] > (q3 + 1.5 * iqr)))]"
   ]
  },
  {
   "cell_type": "code",
   "execution_count": 28,
   "metadata": {},
   "outputs": [
    {
     "name": "stdout",
     "output_type": "stream",
     "text": [
      "<class 'pandas.core.frame.DataFrame'>\n",
      "Index: 1002103 entries, 0 to 1002102\n",
      "Data columns (total 10 columns):\n",
      " #   Column                            Non-Null Count    Dtype  \n",
      "---  ------                            --------------    -----  \n",
      " 0   category                          1002103 non-null  int32  \n",
      " 1   Amount                            1002103 non-null  float64\n",
      " 2   is_fraud                          1002103 non-null  float64\n",
      " 3   seconds                           1002103 non-null  float64\n",
      " 4   diff(mean-seconds)                1002103 non-null  float64\n",
      " 5   diff(mean-amount)                 1002103 non-null  float64\n",
      " 6   ratio_currentTime_to_averageTime  1002103 non-null  float64\n",
      " 7   hour                              1002103 non-null  int32  \n",
      " 8   minute                            1002103 non-null  int32  \n",
      " 9   second                            1002103 non-null  int32  \n",
      "dtypes: float64(6), int32(4)\n",
      "memory usage: 68.8 MB\n"
     ]
    }
   ],
   "source": [
    "df.info()"
   ]
  },
  {
   "cell_type": "code",
   "execution_count": 30,
   "metadata": {},
   "outputs": [
    {
     "data": {
      "image/png": "[encoded data removed]",
      "text/plain": [
       "<Figure size 1000x600 with 2 Axes>"
      ]
     },
     "metadata": {},
     "output_type": "display_data"
    }
   ],
   "source": [
    "import matplotlib.pyplot as plt\n",
    "import seaborn as sns\n",
    "import pandas as pd\n",
    "from sklearn.feature_selection import SelectKBest, f_classif\n",
    "\n",
    "# Assuming df is your DataFrame containing the features and target\n",
    "features = df[['category','Amount','diff(mean-seconds)','diff(mean-amount)','ratio_currentTime_to_averageTime','hour','minute','second']]\n",
    "target = df['is_fraud']\n",
    "\n",
    "best_features = SelectKBest(score_func=f_classif, k='all')\n",
    "fit = best_features.fit(features, target)\n",
    "\n",
    "featureScores = pd.DataFrame(data=fit.scores_, index=features.columns, columns=['Feature Score']) # type: ignore\n",
    "featureScores = featureScores.sort_values(by='Feature Score', ascending=False)\n",
    "\n",
    "plt.figure(figsize=(10, 6))\n",
    "sns.heatmap(featureScores.transpose(), annot=True, cmap='YlGnBu', linewidths=0.4, linecolor='black', fmt='.2f')\n",
    "plt.title('Feature Importance')\n",
    "plt.xlabel('Features')\n",
    "plt.ylabel('Feature Score')\n",
    "plt.xticks(rotation=45, ha='right')  # Rotate x-axis labels for better readability\n",
    "plt.yticks(rotation=0)  # Keep y-axis labels horizontal\n",
    "plt.tight_layout()\n",
    "plt.show()\n"
   ]
  },
  {
   "cell_type": "code",
   "execution_count": 31,
   "metadata": {},
   "outputs": [
    {
     "data": {
      "image/png": "[encoded data removed]",
      "text/plain": [
       "<Figure size 1500x1300 with 2 Axes>"
      ]
     },
     "metadata": {},
     "output_type": "display_data"
    }
   ],
   "source": [
    "#show the heatmap of the correlation\n",
    "plt.figure(figsize=(15, 13))  # Set the size of the figure\n",
    "\n",
    "sns.heatmap(df.corr(), annot=True, cmap='coolwarm')\n",
    "\n",
    "# Show the plot\n",
    "plt.show()"
   ]
  },
  {
   "cell_type": "markdown",
   "metadata": {},
   "source": [
    "okay we engineered 2 features from the Time column and [diff(mean-seconds)] is contributing most to the correlation so we can drop the other two engineered features"
   ]
  },
  {
   "cell_type": "code",
   "execution_count": 37,
   "metadata": {},
   "outputs": [
    {
     "data": {
      "text/plain": [
       "Index(['category', 'Amount', 'is_fraud', 'diff(mean-seconds)', 'hour'], dtype='object')"
      ]
     },
     "execution_count": 37,
     "metadata": {},
     "output_type": "execute_result"
    }
   ],
   "source": [
    "df.columns"
   ]
  },
  {
   "cell_type": "code",
   "execution_count": 32,
   "metadata": {},
   "outputs": [],
   "source": [
    "df.drop(columns=['second','diff(mean-amount)','minute','ratio_currentTime_to_averageTime'],inplace=True)"
   ]
  },
  {
   "cell_type": "code",
   "execution_count": 52,
   "metadata": {},
   "outputs": [],
   "source": [
    "df.drop('category',axis=1,inplace=True)"
   ]
  },
  {
   "cell_type": "code",
   "execution_count": 33,
   "metadata": {},
   "outputs": [
    {
     "name": "stdout",
     "output_type": "stream",
     "text": [
      "<class 'pandas.core.frame.DataFrame'>\n",
      "Index: 1002103 entries, 0 to 1002102\n",
      "Data columns (total 5 columns):\n",
      " #   Column              Non-Null Count    Dtype  \n",
      "---  ------              --------------    -----  \n",
      " 0   category            1002103 non-null  int32  \n",
      " 1   Amount              1002103 non-null  float64\n",
      " 2   is_fraud            1002103 non-null  float64\n",
      " 3   diff(mean-seconds)  1002103 non-null  float64\n",
      " 4   hour                1002103 non-null  int32  \n",
      "dtypes: float64(3), int32(2)\n",
      "memory usage: 38.2 MB\n"
     ]
    }
   ],
   "source": [
    "df.info()"
   ]
  },
  {
   "cell_type": "markdown",
   "metadata": {},
   "source": [
    "so its not the case that fraud transactions have large amounts so we can deal with the skewness of the amount column"
   ]
  },
  {
   "cell_type": "code",
   "execution_count": 34,
   "metadata": {},
   "outputs": [
    {
     "name": "stdout",
     "output_type": "stream",
     "text": [
      "Mean of amount of fraud transactions:  529.7262541571854\n",
      "min of amount of fraud transactions:  1.18\n",
      "Max of amount of fraud transactions:  1371.81\n"
     ]
    }
   ],
   "source": [
    "#i want to see if all the fraud transactions have large amounts\n",
    "print(\"Mean of amount of fraud transactions: \", df[df['is_fraud']==1]['Amount'].mean())\n",
    "print(\"min of amount of fraud transactions: \", df[df['is_fraud']==1]['Amount'].min())\n",
    "print(\"Max of amount of fraud transactions: \", df[df['is_fraud']==1]['Amount'].max())"
   ]
  },
  {
   "cell_type": "code",
   "execution_count": 29,
   "metadata": {},
   "outputs": [
    {
     "data": {
      "text/plain": [
       "<Axes: ylabel='Amount'>"
      ]
     },
     "execution_count": 29,
     "metadata": {},
     "output_type": "execute_result"
    },
    {
     "data": {
      "image/png": "[encoded data removed]",
      "text/plain": [
       "<Figure size 640x480 with 1 Axes>"
      ]
     },
     "metadata": {},
     "output_type": "display_data"
    }
   ],
   "source": [
    "#box plot of all columns\n",
    "sns.boxplot(y=df['Amount'],data=df)"
   ]
  },
  {
   "cell_type": "markdown",
   "metadata": {},
   "source": [
    "# Modeling"
   ]
  },
  {
   "cell_type": "code",
   "execution_count": 35,
   "metadata": {},
   "outputs": [],
   "source": [
    "from imblearn.over_sampling import SMOTE\n",
    "x_init = df.drop(columns=['is_fraud'])\n",
    "y_init = df['is_fraud']\n",
    "smote = SMOTE(sampling_strategy=0.5) # type: ignore\n",
    "X_resampled, y_resampled = smote.fit_resample(x_init, y_init) # type: ignore"
   ]
  },
  {
   "cell_type": "code",
   "execution_count": 41,
   "metadata": {},
   "outputs": [
    {
     "data": {
      "text/plain": [
       "is_fraud\n",
       "0.0    996390\n",
       "1.0    498195\n",
       "Name: count, dtype: int64"
      ]
     },
     "execution_count": 41,
     "metadata": {},
     "output_type": "execute_result"
    }
   ],
   "source": [
    "y_resampled.value_counts()"
   ]
  },
  {
   "cell_type": "code",
   "execution_count": 42,
   "metadata": {},
   "outputs": [
    {
     "name": "stdout",
     "output_type": "stream",
     "text": [
      "<class 'pandas.core.frame.DataFrame'>\n",
      "Index: 1002103 entries, 0 to 1002102\n",
      "Data columns (total 5 columns):\n",
      " #   Column              Non-Null Count    Dtype  \n",
      "---  ------              --------------    -----  \n",
      " 0   category            1002103 non-null  int32  \n",
      " 1   Amount              1002103 non-null  float64\n",
      " 2   is_fraud            1002103 non-null  float64\n",
      " 3   diff(mean-seconds)  1002103 non-null  float64\n",
      " 4   hour                1002103 non-null  int32  \n",
      "dtypes: float64(3), int32(2)\n",
      "memory usage: 38.2 MB\n"
     ]
    }
   ],
   "source": [
    "df.info()"
   ]
  },
  {
   "cell_type": "code",
   "execution_count": 43,
   "metadata": {},
   "outputs": [],
   "source": [
    "# columns_to_scale = ['diff(mean-amount)', 'diff(mean-seconds)','category','Amount','TransactionFrequency','AmountFrequencyProduct','AverageTransactionAmount','AmountToAverageRatio','ratio_currentTime_to_averageTime']\n",
    "#scale using standard scaler\n",
    "from sklearn.preprocessing import StandardScaler\n",
    "\n",
    "scaler = StandardScaler()\n",
    "X_resampled = scaler.fit_transform(X_resampled) # type: ignore\n",
    "\n",
    "x_init = scaler.fit_transform(x_init)"
   ]
  },
  {
   "cell_type": "code",
   "execution_count": null,
   "metadata": {},
   "outputs": [],
   "source": [
    "# from sklearn.decomposition import PCA\n",
    "\n",
    "# selected_columns = ['diff(mean-seconds)','diff(mean-amount)', 'ratio_currentTime_to_averageTime', 'hour','minute', 'second']\n",
    "\n",
    "# data = df[selected_columns]\n",
    "\n",
    "# pca = PCA(n_components=3)\n",
    "\n",
    "# pca.fit(data_standardized)\n",
    "\n",
    "# principal_components = pca.transform(data_standardized)\n",
    "\n",
    "# pc_columns = [f'PC{i+1}' for i in range(pca.n_components_)]\n",
    "\n",
    "# principal_df = pd.DataFrame(data=principal_components, columns=pc_columns)\n",
    "\n",
    "# df[pc_columns] = principal_df"
   ]
  },
  {
   "cell_type": "code",
   "execution_count": 174,
   "metadata": {},
   "outputs": [
    {
     "name": "stdout",
     "output_type": "stream",
     "text": [
      "<class 'pandas.core.frame.DataFrame'>\n",
      "Index: 1002103 entries, 0 to 1002102\n",
      "Data columns (total 4 columns):\n",
      " #   Column              Non-Null Count    Dtype  \n",
      "---  ------              --------------    -----  \n",
      " 0   category            1002103 non-null  int32  \n",
      " 1   Amount              1002103 non-null  float64\n",
      " 2   is_fraud            1002103 non-null  float64\n",
      " 3   diff(mean-seconds)  1002103 non-null  float64\n",
      "dtypes: float64(3), int32(1)\n",
      "memory usage: 34.4 MB\n"
     ]
    }
   ],
   "source": [
    "df.info()"
   ]
  },
  {
   "cell_type": "code",
   "execution_count": 36,
   "metadata": {},
   "outputs": [
    {
     "name": "stdout",
     "output_type": "stream",
     "text": [
      "Number of fraud transactions in test set: 99927\n",
      "Number of fraud transactions in test2 set: 1081\n"
     ]
    }
   ],
   "source": [
    "from sklearn.model_selection import train_test_split\n",
    "# X = scaled_df  # Features\n",
    "# y = df['is_fraud']  # Target variable\n",
    "\n",
    "X_train, X_test, y_train, y_test = train_test_split(X_resampled, y_resampled, test_size=0.2, random_state=42)\n",
    "X_train_noUpsample, X_test_noUpsample, y_train_noUpsample, y_test_noUpsample = train_test_split(x_init, y_init, test_size=0.2, random_state=42)\n",
    "\n",
    "print(\"Number of fraud transactions in test set:\", y_test.value_counts()[1])\n",
    "print(\"Number of fraud transactions in test2 set:\", y_test_noUpsample.value_counts()[1])"
   ]
  },
  {
   "cell_type": "code",
   "execution_count": 37,
   "metadata": {},
   "outputs": [],
   "source": [
    "from sklearn.linear_model import LogisticRegression\n",
    "from sklearn.ensemble import GradientBoostingClassifier\n",
    "from xgboost import XGBClassifier\n",
    "from lightgbm import LGBMClassifier\n",
    "from sklearn.ensemble import RandomForestClassifier\n",
    "from sklearn.metrics import classification_report, confusion_matrix, accuracy_score, precision_recall_fscore_support"
   ]
  },
  {
   "cell_type": "code",
   "execution_count": 38,
   "metadata": {},
   "outputs": [
    {
     "name": "stdout",
     "output_type": "stream",
     "text": [
      "Accuracy: 0.9080145993703937\n",
      "Confusion Matrix:\n",
      "[[194559   4431]\n",
      " [ 23065  76862]]\n"
     ]
    }
   ],
   "source": [
    "#try logistic regression\n",
    "\n",
    "\n",
    "\n",
    "\n",
    "# Initialize and train the logistic regression model\n",
    "logreg = LogisticRegression(max_iter=1000)\n",
    "logreg.fit(X_train, y_train)\n",
    "\n",
    "# Predict on the test set\n",
    "y_pred = logreg.predict(X_test)\n",
    "\n",
    "# Calculate accuracy\n",
    "accuracy = accuracy_score(y_test, y_pred)\n",
    "print(\"Accuracy:\", accuracy)\n",
    "\n",
    "# Generate confusion matrix\n",
    "conf_matrix = confusion_matrix(y_test, y_pred)\n",
    "print(\"Confusion Matrix:\")\n",
    "print(conf_matrix)\n",
    "\n"
   ]
  },
  {
   "cell_type": "code",
   "execution_count": 60,
   "metadata": {},
   "outputs": [
    {
     "data": {
      "image/png": "[encoded data removed]",
      "text/plain": [
       "<Figure size 800x600 with 2 Axes>"
      ]
     },
     "metadata": {},
     "output_type": "display_data"
    }
   ],
   "source": [
    "import seaborn as sns\n",
    "import matplotlib.pyplot as plt\n",
    "\n",
    "# Plot confusion matrix\n",
    "plt.figure(figsize=(8, 6))\n",
    "sns.heatmap(conf_matrix, annot=True, fmt='d', cmap='Blues', \n",
    "            xticklabels=['Not Fraud', 'Fraud'], yticklabels=['Not Fraud', 'Fraud'])\n",
    "plt.xlabel('Predicted')\n",
    "plt.ylabel('Actual')\n",
    "plt.title('Confusion Matrix')\n",
    "plt.show()\n"
   ]
  },
  {
   "cell_type": "code",
   "execution_count": 39,
   "metadata": {},
   "outputs": [
    {
     "name": "stdout",
     "output_type": "stream",
     "text": [
      "Accuracy (Gradient Boosting): 0.9971509971509972\n",
      "Precision (Gradient Boosting): 0.8102189781021898\n",
      "Recall (Gradient Boosting): 0.6160962072155411\n",
      "Confusion Matrix (Gradient Boosting):\n",
      "[[199184    156]\n",
      " [   415    666]]\n",
      "Classification Report (Gradient Boosting):\n",
      "              precision    recall  f1-score   support\n",
      "\n",
      "         0.0       1.00      1.00      1.00    199340\n",
      "         1.0       0.81      0.62      0.70      1081\n",
      "\n",
      "    accuracy                           1.00    200421\n",
      "   macro avg       0.90      0.81      0.85    200421\n",
      "weighted avg       1.00      1.00      1.00    200421\n",
      "\n"
     ]
    }
   ],
   "source": [
    "\n",
    "\n",
    "\n",
    "# Initialize Gradient Boosting Classifier\n",
    "gb_classifier_noUpsample = GradientBoostingClassifier()\n",
    "\n",
    "# Train the model\n",
    "gb_classifier_noUpsample.fit(X_train_noUpsample, y_train_noUpsample)\n",
    "\n",
    "# Predict on the test set\n",
    "y_pred_gb = gb_classifier_noUpsample.predict(X_test_noUpsample)\n",
    "\n",
    "# Calculate accuracy\n",
    "accuracy_gb = accuracy_score(y_test_noUpsample, y_pred_gb)\n",
    "conf_matrix_gb = confusion_matrix(y_test_noUpsample, y_pred_gb)\n",
    "# Generate confusion matrix\n",
    "precision_gb, recall_gb, f1_score_gb, _ = precision_recall_fscore_support(y_test_noUpsample, y_pred_gb, average='binary')\n",
    "\n",
    "print(\"Accuracy (Gradient Boosting):\", accuracy_gb)\n",
    "print(\"Precision (Gradient Boosting):\", precision_gb)\n",
    "print(\"Recall (Gradient Boosting):\", recall_gb)\n",
    "\n",
    "# Generate confusion matrix\n",
    "\n",
    "print(\"Confusion Matrix (Gradient Boosting):\")\n",
    "print(conf_matrix_gb)\n",
    "\n",
    "# Generate classification report\n",
    "print(\"Classification Report (Gradient Boosting):\")\n",
    "print(classification_report(y_test_noUpsample, y_pred_gb))\n",
    "\n"
   ]
  },
  {
   "cell_type": "code",
   "execution_count": 48,
   "metadata": {},
   "outputs": [
    {
     "name": "stdout",
     "output_type": "stream",
     "text": [
      "Accuracy (Gradient Boosting): 0.9457775904348029\n",
      "Precision (Gradient Boosting): 0.9509312822501589\n",
      "Recall (Gradient Boosting): 0.8833848709557978\n",
      "Confusion Matrix (Gradient Boosting):\n",
      "[[194435   4555]\n",
      " [ 11653  88274]]\n",
      "Classification Report (Gradient Boosting):\n",
      "              precision    recall  f1-score   support\n",
      "\n",
      "         0.0       0.94      0.98      0.96    198990\n",
      "         1.0       0.95      0.88      0.92     99927\n",
      "\n",
      "    accuracy                           0.95    298917\n",
      "   macro avg       0.95      0.93      0.94    298917\n",
      "weighted avg       0.95      0.95      0.95    298917\n",
      "\n"
     ]
    }
   ],
   "source": [
    "gb_classifier = GradientBoostingClassifier()\n",
    "\n",
    "# Train the model\n",
    "gb_classifier.fit(X_train, y_train)\n",
    "\n",
    "# Predict on the test set\n",
    "y_pred_gb = gb_classifier.predict(X_test)\n",
    "\n",
    "# Calculate accuracy\n",
    "accuracy_gb = accuracy_score(y_test, y_pred_gb)\n",
    "conf_matrix_gb = confusion_matrix(y_test, y_pred_gb)\n",
    "# Generate confusion matrix\n",
    "precision_gb, recall_gb, f1_score_gb, _ = precision_recall_fscore_support(y_test, y_pred_gb, average='binary')\n",
    "\n",
    "print(\"Accuracy (Gradient Boosting):\", accuracy_gb)\n",
    "print(\"Precision (Gradient Boosting):\", precision_gb)\n",
    "print(\"Recall (Gradient Boosting):\", recall_gb)\n",
    "\n",
    "# Generate confusion matrix\n",
    "\n",
    "print(\"Confusion Matrix (Gradient Boosting):\")\n",
    "print(conf_matrix_gb)\n",
    "\n",
    "# Generate classification report\n",
    "print(\"Classification Report (Gradient Boosting):\")\n",
    "print(classification_report(y_test, y_pred_gb))"
   ]
  },
  {
   "cell_type": "code",
   "execution_count": 89,
   "metadata": {},
   "outputs": [
    {
     "data": {
      "image/png": "[encoded data removed]",
      "text/plain": [
       "<Figure size 800x600 with 2 Axes>"
      ]
     },
     "metadata": {},
     "output_type": "display_data"
    }
   ],
   "source": [
    "plt.figure(figsize=(8, 6))\n",
    "sns.heatmap(conf_matrix_gb, annot=True, fmt='d', cmap='Blues', \n",
    "            xticklabels=['Not Fraud', 'Fraud'], yticklabels=['Not Fraud', 'Fraud'])\n",
    "plt.xlabel('Predicted')\n",
    "plt.ylabel('Actual')\n",
    "plt.title('BOOSTING Confusion Matrix')\n",
    "plt.show()"
   ]
  },
  {
   "cell_type": "code",
   "execution_count": 40,
   "metadata": {},
   "outputs": [
    {
     "name": "stdout",
     "output_type": "stream",
     "text": [
      "Accuracy (XGBoost): 0.997864495237525\n",
      "Accuracy (XGB): 0.997864495237525\n",
      "Precision (XGB): 0.8739977090492554\n",
      "Recall (XGB): 0.7058279370952821\n",
      "Confusion Matrix (XGB):\n",
      "[[199230    110]\n",
      " [   318    763]]\n",
      "Classification Report (XGB):\n",
      "              precision    recall  f1-score   support\n",
      "\n",
      "         0.0       1.00      1.00      1.00    199340\n",
      "         1.0       0.87      0.71      0.78      1081\n",
      "\n",
      "    accuracy                           1.00    200421\n",
      "   macro avg       0.94      0.85      0.89    200421\n",
      "weighted avg       1.00      1.00      1.00    200421\n",
      "\n"
     ]
    }
   ],
   "source": [
    "\n",
    "\n",
    "\n",
    "# Initialize XGBoost Classifier\n",
    "xgb_classifier_noUpsample = XGBClassifier()\n",
    "\n",
    "# Train the model\n",
    "xgb_classifier_noUpsample.fit(X_train_noUpsample, y_train_noUpsample)\n",
    "\n",
    "# Predict on the test set\n",
    "y_pred_xgb = xgb_classifier_noUpsample.predict(X_test_noUpsample)\n",
    "\n",
    "# Calculate accuracy\n",
    "accuracy_xgb = accuracy_score(y_test_noUpsample, y_pred_xgb)\n",
    "print(\"Accuracy (XGBoost):\", accuracy_xgb)\n",
    "\n",
    "# Generate confusion matrix\n",
    "conf_matrix_xgb = confusion_matrix(y_test_noUpsample, y_pred_xgb)\n",
    "# Generate confusion matrix\n",
    "precision_xgb, recall_xgb, f1_score_xgb, _ = precision_recall_fscore_support(y_test_noUpsample, y_pred_xgb, average='binary')\n",
    "\n",
    "print(\"Accuracy (XGB):\", accuracy_xgb)\n",
    "print(\"Precision (XGB):\", precision_xgb)\n",
    "print(\"Recall (XGB):\", recall_xgb)\n",
    "\n",
    "# Generate confusion matrix\n",
    "\n",
    "print(\"Confusion Matrix (XGB):\")\n",
    "print(conf_matrix_xgb)\n",
    "\n",
    "# Generate classification report\n",
    "print(\"Classification Report (XGB):\")\n",
    "print(classification_report(y_test_noUpsample, y_pred_xgb))\n",
    "\n",
    "\n",
    "\n",
    "\n"
   ]
  },
  {
   "cell_type": "code",
   "execution_count": 50,
   "metadata": {},
   "outputs": [
    {
     "name": "stdout",
     "output_type": "stream",
     "text": [
      "Accuracy (XGBoost): 0.9635049194257937\n",
      "Accuracy (XGB): 0.9635049194257937\n",
      "Precision (XGB): 0.9642737931322235\n",
      "Recall (XGB): 0.9251053268886287\n",
      "Confusion Matrix (XGB):\n",
      "[[195565   3425]\n",
      " [  7484  92443]]\n",
      "Classification Report (XGB):\n",
      "              precision    recall  f1-score   support\n",
      "\n",
      "         0.0       0.96      0.98      0.97    198990\n",
      "         1.0       0.96      0.93      0.94     99927\n",
      "\n",
      "    accuracy                           0.96    298917\n",
      "   macro avg       0.96      0.95      0.96    298917\n",
      "weighted avg       0.96      0.96      0.96    298917\n",
      "\n"
     ]
    }
   ],
   "source": [
    "xgb_classifier = XGBClassifier()\n",
    "\n",
    "# Train the model\n",
    "xgb_classifier.fit(X_train, y_train)\n",
    "\n",
    "# Predict on the test set\n",
    "y_pred_xgb = xgb_classifier.predict(X_test)\n",
    "\n",
    "# Calculate accuracy\n",
    "accuracy_xgb = accuracy_score(y_test, y_pred_xgb)\n",
    "print(\"Accuracy (XGBoost):\", accuracy_xgb)\n",
    "\n",
    "# Generate confusion matrix\n",
    "conf_matrix_xgb = confusion_matrix(y_test, y_pred_xgb)\n",
    "# Generate confusion matrix\n",
    "precision_xgb, recall_xgb, f1_score_xgb, _ = precision_recall_fscore_support(y_test, y_pred_xgb, average='binary')\n",
    "\n",
    "print(\"Accuracy (XGB):\", accuracy_xgb)\n",
    "print(\"Precision (XGB):\", precision_xgb)\n",
    "print(\"Recall (XGB):\", recall_xgb)\n",
    "\n",
    "# Generate confusion matrix\n",
    "\n",
    "print(\"Confusion Matrix (XGB):\")\n",
    "print(conf_matrix_xgb)\n",
    "\n",
    "# Generate classification report\n",
    "print(\"Classification Report (XGB):\")\n",
    "print(classification_report(y_test, y_pred_xgb))"
   ]
  },
  {
   "cell_type": "code",
   "execution_count": 41,
   "metadata": {},
   "outputs": [
    {
     "name": "stdout",
     "output_type": "stream",
     "text": [
      "[LightGBM] [Info] Number of positive: 4632, number of negative: 797050\n",
      "[LightGBM] [Info] Auto-choosing row-wise multi-threading, the overhead of testing was 0.002741 seconds.\n",
      "You can set `force_row_wise=true` to remove the overhead.\n",
      "And if memory is not enough, you can set `force_col_wise=true`.\n",
      "[LightGBM] [Info] Total Bins 548\n",
      "[LightGBM] [Info] Number of data points in the train set: 801682, number of used features: 4\n",
      "[LightGBM] [Info] [binary:BoostFromScore]: pavg=0.005778 -> initscore=-5.147929\n",
      "[LightGBM] [Info] Start training from score -5.147929\n",
      "Accuracy (lgbm): 0.9969663857579795\n",
      "Precision (lgbm): 0.7502645502645503\n",
      "Recall (lgbm): 0.6558741905642923\n",
      "Confusion Matrix (lgbm):\n",
      "[[199104    236]\n",
      " [   372    709]]\n",
      "Classification Report (lgbm):\n",
      "              precision    recall  f1-score   support\n",
      "\n",
      "         0.0       1.00      1.00      1.00    199340\n",
      "         1.0       0.75      0.66      0.70      1081\n",
      "\n",
      "    accuracy                           1.00    200421\n",
      "   macro avg       0.87      0.83      0.85    200421\n",
      "weighted avg       1.00      1.00      1.00    200421\n",
      "\n"
     ]
    }
   ],
   "source": [
    "lgbm_classifier_noUpsample = LGBMClassifier()\n",
    "\n",
    "# Train the model\n",
    "lgbm_classifier_noUpsample.fit(X_train_noUpsample, y_train_noUpsample)\n",
    "\n",
    "# Predict on the test set\n",
    "y_pred_lgbm = lgbm_classifier_noUpsample.predict(X_test_noUpsample)\n",
    "\n",
    "# Calculate accuracy\n",
    "accuracy_lgbm = accuracy_score(y_test_noUpsample, y_pred_lgbm) # type: ignore\n",
    "\n",
    "conf_matrix_lgbm = confusion_matrix(y_test_noUpsample, y_pred_lgbm) # type: ignore\n",
    "precision_lgbm, recall_lgbm, f1_score_lgbm, _ = precision_recall_fscore_support(y_test_noUpsample, y_pred_lgbm, average='binary') # type: ignore\n",
    "\n",
    "print(\"Accuracy (lgbm):\", accuracy_lgbm)\n",
    "print(\"Precision (lgbm):\", precision_lgbm)\n",
    "print(\"Recall (lgbm):\", recall_lgbm)\n",
    "\n",
    "# Generate confusion matrix\n",
    "\n",
    "print(\"Confusion Matrix (lgbm):\")\n",
    "print(conf_matrix_lgbm)\n",
    "\n",
    "# Generate classification report\n",
    "print(\"Classification Report (lgbm):\")\n",
    "print(classification_report(y_test_noUpsample, y_pred_lgbm)) # type: ignore"
   ]
  },
  {
   "cell_type": "code",
   "execution_count": 52,
   "metadata": {},
   "outputs": [
    {
     "name": "stdout",
     "output_type": "stream",
     "text": [
      "[LightGBM] [Info] Number of positive: 398268, number of negative: 797400\n",
      "[LightGBM] [Info] Auto-choosing row-wise multi-threading, the overhead of testing was 0.004800 seconds.\n",
      "You can set `force_row_wise=true` to remove the overhead.\n",
      "And if memory is not enough, you can set `force_col_wise=true`.\n",
      "[LightGBM] [Info] Total Bins 550\n",
      "[LightGBM] [Info] Number of data points in the train set: 1195668, number of used features: 4\n",
      "[LightGBM] [Info] [binary:BoostFromScore]: pavg=0.333092 -> initscore=-0.694231\n",
      "[LightGBM] [Info] Start training from score -0.694231\n",
      "Accuracy (lgbm): 0.9581957533362104\n",
      "Precision (lgbm): 0.961206942026692\n",
      "Recall (lgbm): 0.9117455742692165\n",
      "Confusion Matrix (lgbm):\n",
      "[[195313   3677]\n",
      " [  8819  91108]]\n",
      "Classification Report (lgbm):\n",
      "              precision    recall  f1-score   support\n",
      "\n",
      "         0.0       0.96      0.98      0.97    198990\n",
      "         1.0       0.96      0.91      0.94     99927\n",
      "\n",
      "    accuracy                           0.96    298917\n",
      "   macro avg       0.96      0.95      0.95    298917\n",
      "weighted avg       0.96      0.96      0.96    298917\n",
      "\n"
     ]
    }
   ],
   "source": [
    "lgbm_classifier = LGBMClassifier()\n",
    "\n",
    "# Train the model\n",
    "lgbm_classifier.fit(X_train, y_train)\n",
    "\n",
    "# Predict on the test set\n",
    "y_pred_lgbm = lgbm_classifier.predict(X_test)\n",
    "\n",
    "# Calculate accuracy\n",
    "accuracy_lgbm = accuracy_score(y_test, y_pred_lgbm) # type: ignore\n",
    "\n",
    "conf_matrix_lgbm = confusion_matrix(y_test, y_pred_lgbm) # type: ignore\n",
    "precision_lgbm, recall_lgbm, f1_score_lgbm, _ = precision_recall_fscore_support(y_test, y_pred_lgbm, average='binary') # type: ignore\n",
    "\n",
    "print(\"Accuracy (lgbm):\", accuracy_lgbm)\n",
    "print(\"Precision (lgbm):\", precision_lgbm)\n",
    "print(\"Recall (lgbm):\", recall_lgbm)\n",
    "\n",
    "# Generate confusion matrix\n",
    "\n",
    "print(\"Confusion Matrix (lgbm):\")\n",
    "print(conf_matrix_lgbm)\n",
    "\n",
    "# Generate classification report\n",
    "print(\"Classification Report (lgbm):\")\n",
    "print(classification_report(y_test, y_pred_lgbm)) # type: ignore"
   ]
  },
  {
   "cell_type": "code",
   "execution_count": 42,
   "metadata": {},
   "outputs": [
    {
     "name": "stdout",
     "output_type": "stream",
     "text": [
      "Accuracy (rf): 0.9978245792606563\n",
      "Precision (rf): 0.8595317725752508\n",
      "Recall (rf): 0.7132284921369103\n",
      "Confusion Matrix (rf):\n",
      "[[199214    126]\n",
      " [   310    771]]\n",
      "Classification Report (rf):\n",
      "              precision    recall  f1-score   support\n",
      "\n",
      "         0.0       1.00      1.00      1.00    199340\n",
      "         1.0       0.86      0.71      0.78      1081\n",
      "\n",
      "    accuracy                           1.00    200421\n",
      "   macro avg       0.93      0.86      0.89    200421\n",
      "weighted avg       1.00      1.00      1.00    200421\n",
      "\n"
     ]
    }
   ],
   "source": [
    "\n",
    "\n",
    "rf_classifier_noUpsample = RandomForestClassifier()\n",
    "\n",
    "# Train the model\n",
    "rf_classifier_noUpsample.fit(X_train_noUpsample, y_train_noUpsample)\n",
    "\n",
    "# Predict on the test set\n",
    "y_pred_rf = rf_classifier_noUpsample.predict(X_test_noUpsample)\n",
    "\n",
    "# Calculate accuracy\n",
    "accuracy_rf = accuracy_score(y_test_noUpsample, y_pred_rf)\n",
    "# Generate confusion matrix\n",
    "conf_matrix_rf = confusion_matrix(y_test_noUpsample, y_pred_rf)\n",
    "precision_rf, recall_rf, f1_score_rf, _ = precision_recall_fscore_support(y_test_noUpsample, y_pred_rf, average='binary')\n",
    "\n",
    "print(\"Accuracy (rf):\", accuracy_rf)\n",
    "print(\"Precision (rf):\", precision_rf)\n",
    "print(\"Recall (rf):\", recall_rf)\n",
    "\n",
    "# Generate confusion matrix\n",
    "\n",
    "print(\"Confusion Matrix (rf):\")\n",
    "print(conf_matrix_rf)\n",
    "\n",
    "# Generate classification report\n",
    "print(\"Classification Report (rf):\")\n",
    "print(classification_report(y_test_noUpsample, y_pred_rf))"
   ]
  },
  {
   "cell_type": "code",
   "execution_count": 54,
   "metadata": {},
   "outputs": [
    {
     "name": "stdout",
     "output_type": "stream",
     "text": [
      "Accuracy (rf): 0.9727750512684123\n",
      "Precision (rf): 0.9650793972497238\n",
      "Recall (rf): 0.953045723378066\n",
      "Confusion Matrix (rf):\n",
      "[[195544   3446]\n",
      " [  4692  95235]]\n",
      "Classification Report (rf):\n",
      "              precision    recall  f1-score   support\n",
      "\n",
      "         0.0       0.98      0.98      0.98    198990\n",
      "         1.0       0.97      0.95      0.96     99927\n",
      "\n",
      "    accuracy                           0.97    298917\n",
      "   macro avg       0.97      0.97      0.97    298917\n",
      "weighted avg       0.97      0.97      0.97    298917\n",
      "\n"
     ]
    }
   ],
   "source": [
    "rf_classifier = RandomForestClassifier()\n",
    "\n",
    "# Train the model\n",
    "rf_classifier.fit(X_train, y_train)\n",
    "\n",
    "# Predict on the test set\n",
    "y_pred_rf = rf_classifier.predict(X_test)\n",
    "\n",
    "# Calculate accuracy\n",
    "accuracy_rf = accuracy_score(y_test, y_pred_rf)\n",
    "# Generate confusion matrix\n",
    "conf_matrix_rf = confusion_matrix(y_test, y_pred_rf)\n",
    "precision_rf, recall_rf, f1_score_rf, _ = precision_recall_fscore_support(y_test, y_pred_rf, average='binary')\n",
    "\n",
    "print(\"Accuracy (rf):\", accuracy_rf)\n",
    "print(\"Precision (rf):\", precision_rf)\n",
    "print(\"Recall (rf):\", recall_rf)\n",
    "\n",
    "# Generate confusion matrix\n",
    "\n",
    "print(\"Confusion Matrix (rf):\")\n",
    "print(conf_matrix_rf)\n",
    "\n",
    "# Generate classification report\n",
    "print(\"Classification Report (rf):\")\n",
    "print(classification_report(y_test, y_pred_rf))"
   ]
  },
  {
   "cell_type": "code",
   "execution_count": 47,
   "metadata": {},
   "outputs": [],
   "source": [
    "from sklearn.svm import SVC\n",
    "\n",
    "# Initialize SVM classifier\n",
    "svm_classifier = SVC(C=1.0, kernel='rbf', gamma='auto')\n",
    "\n",
    "# Train the model\n",
    "svm_classifier.fit(X_train, y_train)\n",
    "\n",
    "# Predict on the test set\n",
    "y_pred_svm = svm_classifier.predict(X_test)\n",
    "\n",
    "# Calculate accuracy\n",
    "accuracy_svm = accuracy_score(y_test, y_pred_svm)\n",
    "print(\"Accuracy (SVM):\", accuracy_svm)\n",
    "\n",
    "# Generate confusion matrix\n",
    "conf_matrix_svm = confusion_matrix(y_test, y_pred_svm)\n",
    "print(\"Confusion Matrix (SVM):\")\n",
    "print(conf_matrix_svm)\n",
    "\n"
   ]
  },
  {
   "cell_type": "code",
   "execution_count": null,
   "metadata": {},
   "outputs": [],
   "source": [
    "from sklearn.ensemble import RandomForestClassifier\n",
    "from sklearn.model_selection import GridSearchCV\n",
    "rf_param_grid = {'n_estimators': [100, 200, 300],\n",
    "                 'max_depth': [None, 10, 20]}\n",
    "\n",
    "rf_classifier = RandomForestClassifier()\n",
    "rf_grid_search = GridSearchCV(rf_classifier, rf_param_grid, cv=3)\n",
    "rf_grid_search.fit(X_train, y_train)\n",
    "\n",
    "rf_best_params = rf_grid_search.best_params_\n",
    "rf_best_score = rf_grid_search.best_score_\n",
    "print(\"Best Parameters for Random Forest:\", rf_best_params)\n",
    "print(\"Best Score for Random Forest:\", rf_best_score)\n",
    "\n",
    "y_pred_rf = rf_grid_search.best_estimator_.predict(X_test)\n",
    "\n",
    "# Calculate accuracy for Random Forest\n",
    "accuracy_rf = accuracy_score(y_test, y_pred_rf)\n",
    "print(\"Accuracy (Random Forest):\", accuracy_rf)\n",
    "\n",
    "# Generate confusion matrix for Random Forest\n",
    "conf_matrix_rf = confusion_matrix(y_test, y_pred_rf)\n",
    "print(\"Confusion Matrix (Random Forest):\")\n",
    "print(conf_matrix_rf)"
   ]
  },
  {
   "cell_type": "markdown",
   "metadata": {},
   "source": [
    "# validation on test data"
   ]
  },
  {
   "cell_type": "code",
   "execution_count": 43,
   "metadata": {},
   "outputs": [],
   "source": [
    "df_test = pd.read_excel(r\"C:\\Users\\ahmed\\Desktop\\my projects\\UNI-Fraud-detection\\AI-project\\fraudTest.xlsx\",parse_dates=['Time'])"
   ]
  },
  {
   "cell_type": "code",
   "execution_count": 44,
   "metadata": {},
   "outputs": [
    {
     "data": {
      "text/html": [
       "<div>\n",
       "<style scoped>\n",
       "    .dataframe tbody tr th:only-of-type {\n",
       "        vertical-align: middle;\n",
       "    }\n",
       "\n",
       "    .dataframe tbody tr th {\n",
       "        vertical-align: top;\n",
       "    }\n",
       "\n",
       "    .dataframe thead th {\n",
       "        text-align: right;\n",
       "    }\n",
       "</style>\n",
       "<table border=\"1\" class=\"dataframe\">\n",
       "  <thead>\n",
       "    <tr style=\"text-align: right;\">\n",
       "      <th></th>\n",
       "      <th>ID</th>\n",
       "      <th>Time</th>\n",
       "      <th>Card Number</th>\n",
       "      <th>merchant</th>\n",
       "      <th>category</th>\n",
       "      <th>Amount</th>\n",
       "      <th>firstName</th>\n",
       "      <th>lastName</th>\n",
       "      <th>trans_num</th>\n",
       "      <th>is_fraud</th>\n",
       "    </tr>\n",
       "  </thead>\n",
       "  <tbody>\n",
       "    <tr>\n",
       "      <th>0</th>\n",
       "      <td>0</td>\n",
       "      <td>2020-06-21 12:14:25</td>\n",
       "      <td>2291163933867240</td>\n",
       "      <td>fraud_Kirlin and Sons</td>\n",
       "      <td>personal_care</td>\n",
       "      <td>2.86</td>\n",
       "      <td>Jeff</td>\n",
       "      <td>Elliott</td>\n",
       "      <td>2da90c7d74bd46a0caf3777415b3ebd3</td>\n",
       "      <td>0</td>\n",
       "    </tr>\n",
       "    <tr>\n",
       "      <th>1</th>\n",
       "      <td>1</td>\n",
       "      <td>2020-06-21 12:14:33</td>\n",
       "      <td>3573030041201290</td>\n",
       "      <td>fraud_Sporer-Keebler</td>\n",
       "      <td>personal_care</td>\n",
       "      <td>29.84</td>\n",
       "      <td>Joanne</td>\n",
       "      <td>Williams</td>\n",
       "      <td>324cc204407e99f51b0d6ca0055005e7</td>\n",
       "      <td>0</td>\n",
       "    </tr>\n",
       "    <tr>\n",
       "      <th>2</th>\n",
       "      <td>2</td>\n",
       "      <td>2020-06-21 12:14:53</td>\n",
       "      <td>3598215285024750</td>\n",
       "      <td>fraud_Swaniawski, Nitzsche and Welch</td>\n",
       "      <td>health_fitness</td>\n",
       "      <td>41.28</td>\n",
       "      <td>Ashley</td>\n",
       "      <td>Lopez</td>\n",
       "      <td>c81755dbbbea9d5c77f094348a7579be</td>\n",
       "      <td>0</td>\n",
       "    </tr>\n",
       "    <tr>\n",
       "      <th>3</th>\n",
       "      <td>3</td>\n",
       "      <td>2020-06-21 12:15:15</td>\n",
       "      <td>3591919803438420</td>\n",
       "      <td>fraud_Haley Group</td>\n",
       "      <td>misc_pos</td>\n",
       "      <td>60.05</td>\n",
       "      <td>Brian</td>\n",
       "      <td>Williams</td>\n",
       "      <td>2159175b9efe66dc301f149d3d5abf8c</td>\n",
       "      <td>0</td>\n",
       "    </tr>\n",
       "    <tr>\n",
       "      <th>4</th>\n",
       "      <td>4</td>\n",
       "      <td>2020-06-21 12:15:17</td>\n",
       "      <td>3526826139003040</td>\n",
       "      <td>fraud_Johnston-Casper</td>\n",
       "      <td>travel</td>\n",
       "      <td>3.19</td>\n",
       "      <td>Nathan</td>\n",
       "      <td>Massey</td>\n",
       "      <td>57ff021bd3f328f8738bb535c302a31b</td>\n",
       "      <td>0</td>\n",
       "    </tr>\n",
       "  </tbody>\n",
       "</table>\n",
       "</div>"
      ],
      "text/plain": [
       "   ID                Time       Card Number  \\\n",
       "0   0 2020-06-21 12:14:25  2291163933867240   \n",
       "1   1 2020-06-21 12:14:33  3573030041201290   \n",
       "2   2 2020-06-21 12:14:53  3598215285024750   \n",
       "3   3 2020-06-21 12:15:15  3591919803438420   \n",
       "4   4 2020-06-21 12:15:17  3526826139003040   \n",
       "\n",
       "                               merchant        category  Amount firstName  \\\n",
       "0                 fraud_Kirlin and Sons   personal_care    2.86      Jeff   \n",
       "1                  fraud_Sporer-Keebler   personal_care   29.84    Joanne   \n",
       "2  fraud_Swaniawski, Nitzsche and Welch  health_fitness   41.28    Ashley   \n",
       "3                     fraud_Haley Group        misc_pos   60.05     Brian   \n",
       "4                 fraud_Johnston-Casper          travel    3.19    Nathan   \n",
       "\n",
       "   lastName                         trans_num  is_fraud  \n",
       "0   Elliott  2da90c7d74bd46a0caf3777415b3ebd3         0  \n",
       "1  Williams  324cc204407e99f51b0d6ca0055005e7         0  \n",
       "2     Lopez  c81755dbbbea9d5c77f094348a7579be         0  \n",
       "3  Williams  2159175b9efe66dc301f149d3d5abf8c         0  \n",
       "4    Massey  57ff021bd3f328f8738bb535c302a31b         0  "
      ]
     },
     "execution_count": 44,
     "metadata": {},
     "output_type": "execute_result"
    }
   ],
   "source": [
    "df_test.head()"
   ]
  },
  {
   "cell_type": "code",
   "execution_count": 45,
   "metadata": {},
   "outputs": [
    {
     "name": "stdout",
     "output_type": "stream",
     "text": [
      "             Column Name  Null Values  Percentage of Null Values\n",
      "ID                    ID            0                        0.0\n",
      "Time                Time            0                        0.0\n",
      "Card Number  Card Number            0                        0.0\n",
      "merchant        merchant            0                        0.0\n",
      "category        category            0                        0.0\n",
      "Amount            Amount            0                        0.0\n",
      "firstName      firstName            0                        0.0\n",
      "lastName        lastName            0                        0.0\n",
      "trans_num      trans_num            0                        0.0\n",
      "is_fraud        is_fraud            0                        0.0\n"
     ]
    }
   ],
   "source": [
    "null_values = df_test.isnull().sum()\n",
    "percent_null_values = (null_values / len(df)) * 100\n",
    "\n",
    "null_df = pd.DataFrame({\n",
    "    \"Column Name\": df_test.columns,\n",
    "    \"Null Values\": null_values,\n",
    "    \"Percentage of Null Values\": percent_null_values,\n",
    "})\n",
    "\n",
    "print(null_df)"
   ]
  },
  {
   "cell_type": "code",
   "execution_count": 46,
   "metadata": {},
   "outputs": [
    {
     "name": "stdout",
     "output_type": "stream",
     "text": [
      "Number of fraud transactions:  2145\n",
      "Number of non-fraud transactions:  553574\n"
     ]
    }
   ],
   "source": [
    "print(\"Number of fraud transactions: \", df_test[df_test['is_fraud']==1].shape[0])\n",
    "print(\"Number of non-fraud transactions: \", df_test[df_test['is_fraud']==0].shape[0])"
   ]
  },
  {
   "cell_type": "code",
   "execution_count": 47,
   "metadata": {},
   "outputs": [],
   "source": [
    "df_test.drop(columns=['ID', 'firstName', 'lastName', 'trans_num', 'merchant','Card Number'],inplace=True)"
   ]
  },
  {
   "cell_type": "code",
   "execution_count": 48,
   "metadata": {},
   "outputs": [
    {
     "data": {
      "text/plain": [
       "Index(['category', 'Amount', 'is_fraud', 'diff(mean-seconds)', 'hour'], dtype='object')"
      ]
     },
     "execution_count": 48,
     "metadata": {},
     "output_type": "execute_result"
    }
   ],
   "source": [
    "df.columns"
   ]
  },
  {
   "cell_type": "code",
   "execution_count": 49,
   "metadata": {},
   "outputs": [],
   "source": [
    "df_test.sort_values(by='Time', inplace=True)\n",
    "df_test['seconds'] = (df_test['Time'] - df_test['Time'].min()).dt.total_seconds()\n",
    "df_test['diff(mean-seconds)'] = abs(df_test['seconds'] - df_test['seconds'].mean())\n",
    "df_test['hour'] = df_test['Time'].dt.hour"
   ]
  },
  {
   "cell_type": "code",
   "execution_count": 50,
   "metadata": {},
   "outputs": [],
   "source": [
    "df_test.drop(columns=['Time','seconds'],inplace=True)"
   ]
  },
  {
   "cell_type": "code",
   "execution_count": 51,
   "metadata": {},
   "outputs": [],
   "source": [
    "from sklearn.preprocessing import LabelEncoder\n",
    "\n",
    "# Assuming 'column_to_encode' is the column you want to encode\n",
    "encoder = LabelEncoder()\n",
    "df_test['category'] = encoder.fit_transform(df_test['category'])"
   ]
  },
  {
   "cell_type": "code",
   "execution_count": 65,
   "metadata": {},
   "outputs": [
    {
     "name": "stdout",
     "output_type": "stream",
     "text": [
      "Skewness of each column:\n",
      "category               0.043905\n",
      "Amount                37.134077\n",
      "is_fraud              16.002553\n",
      "diff(mean-seconds)    -0.230258\n",
      "hour                  -0.284805\n",
      "dtype: float64\n"
     ]
    }
   ],
   "source": [
    "print(\"Skewness of each column:\")\n",
    "print(df_test.skew())"
   ]
  },
  {
   "cell_type": "code",
   "execution_count": 193,
   "metadata": {},
   "outputs": [],
   "source": [
    "q1 = df_test['Amount'].quantile(0.25)\n",
    "q3 = df_test['Amount'].quantile(0.75)\n",
    "iqr = q3 - q1\n",
    "# Remove outliers\n",
    "df_test = df_test[~((df_test['Amount'] < (q1 - 1.5 * iqr)) | (df_test['Amount'] > (q3 + 1.5 * iqr)))]"
   ]
  },
  {
   "cell_type": "code",
   "execution_count": 66,
   "metadata": {},
   "outputs": [
    {
     "data": {
      "text/plain": [
       "Index(['category', 'Amount', 'is_fraud', 'diff(mean-seconds)', 'hour'], dtype='object')"
      ]
     },
     "execution_count": 66,
     "metadata": {},
     "output_type": "execute_result"
    }
   ],
   "source": [
    "df.columns"
   ]
  },
  {
   "cell_type": "code",
   "execution_count": 67,
   "metadata": {},
   "outputs": [
    {
     "data": {
      "text/plain": [
       "Index(['category', 'Amount', 'is_fraud', 'diff(mean-seconds)', 'hour'], dtype='object')"
      ]
     },
     "execution_count": 67,
     "metadata": {},
     "output_type": "execute_result"
    }
   ],
   "source": [
    "df_test.columns"
   ]
  },
  {
   "cell_type": "code",
   "execution_count": 52,
   "metadata": {},
   "outputs": [],
   "source": [
    "x_validate = df_test.drop('is_fraud', axis=1)\n",
    "y_validate = df_test['is_fraud']"
   ]
  },
  {
   "cell_type": "code",
   "execution_count": 69,
   "metadata": {},
   "outputs": [],
   "source": [
    "from sklearn.preprocessing import StandardScaler\n",
    "\n",
    "scaler = StandardScaler()\n",
    "\n",
    "x_validate = scaler.fit_transform(x_validate)"
   ]
  },
  {
   "cell_type": "markdown",
   "metadata": {},
   "source": [
    "rf_classifier_noUpsample\n",
    "\n",
    "rf_classifier\n",
    "\n",
    "gb_classifier_noUpsample\n",
    "\n",
    "xgb_classifier_noUpsample\n",
    "\n",
    "lgbm_classifier_noUpsample\n"
   ]
  },
  {
   "cell_type": "code",
   "execution_count": 70,
   "metadata": {},
   "outputs": [
    {
     "name": "stdout",
     "output_type": "stream",
     "text": [
      "Accuracy: 0.6781592855381947\n",
      "Confusion Matrix:\n",
      "[[376063 177511]\n",
      " [  1342    803]]\n"
     ]
    }
   ],
   "source": [
    "y_pred = rf_classifier.predict(x_validate)\n",
    "# Calculate accuracy\n",
    "accuracy = accuracy_score(y_validate, y_pred)\n",
    "print(\"Accuracy:\", accuracy)\n",
    "\n",
    "# Calculate confusion matrix\n",
    "conf_matrix = confusion_matrix(y_validate, y_pred)\n",
    "print(\"Confusion Matrix:\")\n",
    "print(conf_matrix)"
   ]
  },
  {
   "cell_type": "code",
   "execution_count": 53,
   "metadata": {},
   "outputs": [
    {
     "name": "stdout",
     "output_type": "stream",
     "text": [
      "Accuracy: 0.9981537431687597\n",
      "Confusion Matrix:\n",
      "[[553233    341]\n",
      " [   685   1460]]\n"
     ]
    }
   ],
   "source": [
    "y_pred = rf_classifier_noUpsample.predict(x_validate)\n",
    "# Calculate accuracy\n",
    "accuracy = accuracy_score(y_validate, y_pred)\n",
    "print(\"Accuracy:\", accuracy)\n",
    "\n",
    "# Calculate confusion matrix\n",
    "conf_matrix = confusion_matrix(y_validate, y_pred)\n",
    "print(\"Confusion Matrix:\")\n",
    "print(conf_matrix)"
   ]
  },
  {
   "cell_type": "code",
   "execution_count": 72,
   "metadata": {},
   "outputs": [
    {
     "name": "stdout",
     "output_type": "stream",
     "text": [
      "Accuracy: 0.9975833109899068\n",
      "Confusion Matrix:\n",
      "[[553050    524]\n",
      " [   819   1326]]\n"
     ]
    }
   ],
   "source": [
    "y_pred = gb_classifier_noUpsample.predict(x_validate)\n",
    "# Calculate accuracy\n",
    "accuracy = accuracy_score(y_validate, y_pred)\n",
    "print(\"Accuracy:\", accuracy)\n",
    "\n",
    "# Calculate confusion matrix\n",
    "conf_matrix = confusion_matrix(y_validate, y_pred)\n",
    "print(\"Confusion Matrix:\")\n",
    "print(conf_matrix)"
   ]
  },
  {
   "cell_type": "code",
   "execution_count": 73,
   "metadata": {},
   "outputs": [
    {
     "name": "stdout",
     "output_type": "stream",
     "text": [
      "Accuracy: 0.9950064690967917\n",
      "Confusion Matrix:\n",
      "[[551806   1768]\n",
      " [  1007   1138]]\n"
     ]
    }
   ],
   "source": [
    "y_pred = xgb_classifier_noUpsample.predict(x_validate)\n",
    "# Calculate accuracy\n",
    "accuracy = accuracy_score(y_validate, y_pred)\n",
    "print(\"Accuracy:\", accuracy)\n",
    "\n",
    "# Calculate confusion matrix\n",
    "conf_matrix = confusion_matrix(y_validate, y_pred)\n",
    "print(\"Confusion Matrix:\")\n",
    "print(conf_matrix)"
   ]
  },
  {
   "cell_type": "code",
   "execution_count": 74,
   "metadata": {},
   "outputs": [
    {
     "name": "stdout",
     "output_type": "stream",
     "text": [
      "Accuracy: 0.9970668629289263\n",
      "Confusion Matrix:\n",
      "[[552750    824]\n",
      " [   806   1339]]\n"
     ]
    }
   ],
   "source": [
    "y_pred = lgbm_classifier_noUpsample.predict(x_validate)\n",
    "# Calculate accuracy\n",
    "accuracy = accuracy_score(y_validate, y_pred)\n",
    "print(\"Accuracy:\", accuracy)\n",
    "\n",
    "# Calculate confusion matrix\n",
    "conf_matrix = confusion_matrix(y_validate, y_pred)\n",
    "print(\"Confusion Matrix:\")\n",
    "print(conf_matrix)"
   ]
  },
  {
   "cell_type": "code",
   "execution_count": 54,
   "metadata": {},
   "outputs": [],
   "source": [
    "import pickle\n",
    "\n",
    "# Save the model to a file\n",
    "with open('randomForest_without_scaling.pkl', 'wb') as file:\n",
    "    pickle.dump(rf_classifier_noUpsample, file)\n"
   ]
  },
  {
   "cell_type": "markdown",
   "metadata": {},
   "source": [
    "# CONCLUSION:\n",
    "\n",
    " After alot of effort in cleaning the Data and finding the best features and creating new features and performing upsampling.\n",
    "\n",
    " we found that the features that conribute the most to the accuaracy of our model are \"category\",\"Amount\",\"diff(mean-seconds),\"hour\" and the best accuracy comes from the model without upsampling.\n",
    "\n",
    " Also the outlires contribute to the identification of fraud transactions so we kept them in the dataset.\n",
    "\n",
    "we found that the best models are Random Forest light gradient boosting \n",
    "\n",
    "RANDOM_FOREST:\n",
    "\n",
    " Accuracy: 0.9980061865799081\n",
    "\n",
    "Confusion Matrix:\n",
    "\n",
    "[[553171    403]\n",
    "\n",
    " [   705   1440]]\n",
    "\n",
    "----------------------------\n",
    "LGBM:\n",
    "\n",
    "Accuracy: 0.9970668629289263\n",
    "\n",
    "Confusion Matrix:\n",
    "\n",
    "[[552750    824]\n",
    " \n",
    " [   806   1339]]\n",
    "\n",
    "\n",
    "Finally with more data and features the model can be better and more accurate at idnetifying fraud transactions and can be deployed to a real world application.\n"
   ]
  },
  {
   "cell_type": "markdown",
   "metadata": {},
   "source": []
  }
 ],
 "metadata": {
  "kernelspec": {
   "display_name": "virtual",
   "language": "python",
   "name": "python3"
  },
  "language_info": {
   "codemirror_mode": {
    "name": "ipython",
    "version": 3
   },
   "file_extension": ".py",
   "mimetype": "text/x-python",
   "name": "python",
   "nbconvert_exporter": "python",
   "pygments_lexer": "ipython3",
   "version": "3.12.1"
  }
 },
 "nbformat": 4,
 "nbformat_minor": 2
}
